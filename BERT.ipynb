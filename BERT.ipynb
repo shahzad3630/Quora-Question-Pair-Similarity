{
 "cells": [
  {
   "cell_type": "markdown",
   "metadata": {
    "id": "P5DMCi3gOW5B"
   },
   "source": [
    "# Fetch data"
   ]
  },
  {
   "cell_type": "code",
   "execution_count": 1,
   "metadata": {
    "colab": {
     "base_uri": "https://localhost:8080/"
    },
    "id": "Dza0LJaYpnIE",
    "outputId": "ba5a6bfc-12d9-4445-d93a-52b99f04d7e9"
   },
   "outputs": [
    {
     "name": "stdout",
     "output_type": "stream",
     "text": [
      "Sun Feb 20 11:02:22 2022       \n",
      "+-----------------------------------------------------------------------------+\n",
      "| NVIDIA-SMI 460.32.03    Driver Version: 460.32.03    CUDA Version: 11.2     |\n",
      "|-------------------------------+----------------------+----------------------+\n",
      "| GPU  Name        Persistence-M| Bus-Id        Disp.A | Volatile Uncorr. ECC |\n",
      "| Fan  Temp  Perf  Pwr:Usage/Cap|         Memory-Usage | GPU-Util  Compute M. |\n",
      "|                               |                      |               MIG M. |\n",
      "|===============================+======================+======================|\n",
      "|   0  Tesla K80           Off  | 00000000:00:04.0 Off |                    0 |\n",
      "| N/A   69C    P8    32W / 149W |      0MiB / 11441MiB |      0%      Default |\n",
      "|                               |                      |                  N/A |\n",
      "+-------------------------------+----------------------+----------------------+\n",
      "                                                                               \n",
      "+-----------------------------------------------------------------------------+\n",
      "| Processes:                                                                  |\n",
      "|  GPU   GI   CI        PID   Type   Process name                  GPU Memory |\n",
      "|        ID   ID                                                   Usage      |\n",
      "|=============================================================================|\n",
      "|  No running processes found                                                 |\n",
      "+-----------------------------------------------------------------------------+\n"
     ]
    }
   ],
   "source": [
    "# get GPU info\n",
    "\n",
    "!nvidia-smi"
   ]
  },
  {
   "cell_type": "code",
   "execution_count": 2,
   "metadata": {
    "id": "fJKw6zs9nT2X"
   },
   "outputs": [],
   "source": [
    "# # Mount google drive to colab-session\n",
    "\n",
    "from google.colab import drive\n",
    "drive.mount('/content/drive')"
   ]
  },
  {
   "cell_type": "code",
   "execution_count": 3,
   "metadata": {
    "id": "yIrDM6PqLCUh"
   },
   "outputs": [],
   "source": [
    "# get the dataset from drive\n",
    "\n",
    "!cp \"/content/drive/MyDrive/colab/NLP/quora_question_pair_similarity/data/data.csv\" data.csv"
   ]
  },
  {
   "cell_type": "markdown",
   "metadata": {
    "id": "_XbMdDeIfezH"
   },
   "source": [
    "# Module Import"
   ]
  },
  {
   "cell_type": "code",
   "execution_count": 6,
   "metadata": {
    "id": "7E3SITr6OPKM"
   },
   "outputs": [],
   "source": [
    "import os, re\n",
    "import pickle\n",
    "import numpy as np\n",
    "import pandas as pd\n",
    "\n",
    "import seaborn as sns\n",
    "import matplotlib.pyplot as plt\n",
    "\n",
    "from tqdm.notebook import tqdm"
   ]
  },
  {
   "cell_type": "code",
   "execution_count": 7,
   "metadata": {
    "id": "pSbrSJ8uDSoj"
   },
   "outputs": [],
   "source": [
    "import tensorflow as tf\n",
    "from tensorflow import keras\n",
    "from tensorflow.keras.layers import Input, Dense, Embedding\n",
    "from tensorflow.keras.layers import Bidirectional, LSTM, GRU, RNN, Dropout\n",
    "from tensorflow.keras.layers import BatchNormalization, concatenate\n",
    "from tensorflow.keras.layers import GlobalAveragePooling1D, GlobalMaxPooling1D\n",
    "\n",
    "from tensorflow.keras.optimizers import Adam\n",
    "\n",
    "from tensorflow.keras.models import Model\n",
    "from tensorflow.keras import backend as K"
   ]
  },
  {
   "cell_type": "code",
   "execution_count": 8,
   "metadata": {
    "colab": {
     "base_uri": "https://localhost:8080/"
    },
    "id": "GVyYiSGE6lBk",
    "outputId": "a5de2416-0efa-4a83-b77d-1a18555f9d3d"
   },
   "outputs": [
    {
     "name": "stdout",
     "output_type": "stream",
     "text": [
      "Collecting transformers==2.11.0\n",
      "  Downloading transformers-2.11.0-py3-none-any.whl (674 kB)\n",
      "\u001b[?25l\r",
      "\u001b[K     |▌                               | 10 kB 22.7 MB/s eta 0:00:01\r",
      "\u001b[K     |█                               | 20 kB 10.3 MB/s eta 0:00:01\r",
      "\u001b[K     |█▌                              | 30 kB 8.7 MB/s eta 0:00:01\r",
      "\u001b[K     |██                              | 40 kB 8.1 MB/s eta 0:00:01\r",
      "\u001b[K     |██▍                             | 51 kB 4.4 MB/s eta 0:00:01\r",
      "\u001b[K     |███                             | 61 kB 5.2 MB/s eta 0:00:01\r",
      "\u001b[K     |███▍                            | 71 kB 5.2 MB/s eta 0:00:01\r",
      "\u001b[K     |███▉                            | 81 kB 5.4 MB/s eta 0:00:01\r",
      "\u001b[K     |████▍                           | 92 kB 6.0 MB/s eta 0:00:01\r",
      "\u001b[K     |████▉                           | 102 kB 5.2 MB/s eta 0:00:01\r",
      "\u001b[K     |█████▍                          | 112 kB 5.2 MB/s eta 0:00:01\r",
      "\u001b[K     |█████▉                          | 122 kB 5.2 MB/s eta 0:00:01\r",
      "\u001b[K     |██████▎                         | 133 kB 5.2 MB/s eta 0:00:01\r",
      "\u001b[K     |██████▉                         | 143 kB 5.2 MB/s eta 0:00:01\r",
      "\u001b[K     |███████▎                        | 153 kB 5.2 MB/s eta 0:00:01\r",
      "\u001b[K     |███████▊                        | 163 kB 5.2 MB/s eta 0:00:01\r",
      "\u001b[K     |████████▎                       | 174 kB 5.2 MB/s eta 0:00:01\r",
      "\u001b[K     |████████▊                       | 184 kB 5.2 MB/s eta 0:00:01\r",
      "\u001b[K     |█████████▎                      | 194 kB 5.2 MB/s eta 0:00:01\r",
      "\u001b[K     |█████████▊                      | 204 kB 5.2 MB/s eta 0:00:01\r",
      "\u001b[K     |██████████▏                     | 215 kB 5.2 MB/s eta 0:00:01\r",
      "\u001b[K     |██████████▊                     | 225 kB 5.2 MB/s eta 0:00:01\r",
      "\u001b[K     |███████████▏                    | 235 kB 5.2 MB/s eta 0:00:01\r",
      "\u001b[K     |███████████▋                    | 245 kB 5.2 MB/s eta 0:00:01\r",
      "\u001b[K     |████████████▏                   | 256 kB 5.2 MB/s eta 0:00:01\r",
      "\u001b[K     |████████████▋                   | 266 kB 5.2 MB/s eta 0:00:01\r",
      "\u001b[K     |█████████████                   | 276 kB 5.2 MB/s eta 0:00:01\r",
      "\u001b[K     |█████████████▋                  | 286 kB 5.2 MB/s eta 0:00:01\r",
      "\u001b[K     |██████████████                  | 296 kB 5.2 MB/s eta 0:00:01\r",
      "\u001b[K     |██████████████▋                 | 307 kB 5.2 MB/s eta 0:00:01\r",
      "\u001b[K     |███████████████                 | 317 kB 5.2 MB/s eta 0:00:01\r",
      "\u001b[K     |███████████████▌                | 327 kB 5.2 MB/s eta 0:00:01\r",
      "\u001b[K     |████████████████                | 337 kB 5.2 MB/s eta 0:00:01\r",
      "\u001b[K     |████████████████▌               | 348 kB 5.2 MB/s eta 0:00:01\r",
      "\u001b[K     |█████████████████               | 358 kB 5.2 MB/s eta 0:00:01\r",
      "\u001b[K     |█████████████████▌              | 368 kB 5.2 MB/s eta 0:00:01\r",
      "\u001b[K     |██████████████████              | 378 kB 5.2 MB/s eta 0:00:01\r",
      "\u001b[K     |██████████████████▌             | 389 kB 5.2 MB/s eta 0:00:01\r",
      "\u001b[K     |███████████████████             | 399 kB 5.2 MB/s eta 0:00:01\r",
      "\u001b[K     |███████████████████▍            | 409 kB 5.2 MB/s eta 0:00:01\r",
      "\u001b[K     |████████████████████            | 419 kB 5.2 MB/s eta 0:00:01\r",
      "\u001b[K     |████████████████████▍           | 430 kB 5.2 MB/s eta 0:00:01\r",
      "\u001b[K     |████████████████████▉           | 440 kB 5.2 MB/s eta 0:00:01\r",
      "\u001b[K     |█████████████████████▍          | 450 kB 5.2 MB/s eta 0:00:01\r",
      "\u001b[K     |█████████████████████▉          | 460 kB 5.2 MB/s eta 0:00:01\r",
      "\u001b[K     |██████████████████████▍         | 471 kB 5.2 MB/s eta 0:00:01\r",
      "\u001b[K     |██████████████████████▉         | 481 kB 5.2 MB/s eta 0:00:01\r",
      "\u001b[K     |███████████████████████▎        | 491 kB 5.2 MB/s eta 0:00:01\r",
      "\u001b[K     |███████████████████████▉        | 501 kB 5.2 MB/s eta 0:00:01\r",
      "\u001b[K     |████████████████████████▎       | 512 kB 5.2 MB/s eta 0:00:01\r",
      "\u001b[K     |████████████████████████▊       | 522 kB 5.2 MB/s eta 0:00:01\r",
      "\u001b[K     |█████████████████████████▎      | 532 kB 5.2 MB/s eta 0:00:01\r",
      "\u001b[K     |█████████████████████████▊      | 542 kB 5.2 MB/s eta 0:00:01\r",
      "\u001b[K     |██████████████████████████▏     | 552 kB 5.2 MB/s eta 0:00:01\r",
      "\u001b[K     |██████████████████████████▊     | 563 kB 5.2 MB/s eta 0:00:01\r",
      "\u001b[K     |███████████████████████████▏    | 573 kB 5.2 MB/s eta 0:00:01\r",
      "\u001b[K     |███████████████████████████▊    | 583 kB 5.2 MB/s eta 0:00:01\r",
      "\u001b[K     |████████████████████████████▏   | 593 kB 5.2 MB/s eta 0:00:01\r",
      "\u001b[K     |████████████████████████████▋   | 604 kB 5.2 MB/s eta 0:00:01\r",
      "\u001b[K     |█████████████████████████████▏  | 614 kB 5.2 MB/s eta 0:00:01\r",
      "\u001b[K     |█████████████████████████████▋  | 624 kB 5.2 MB/s eta 0:00:01\r",
      "\u001b[K     |██████████████████████████████  | 634 kB 5.2 MB/s eta 0:00:01\r",
      "\u001b[K     |██████████████████████████████▋ | 645 kB 5.2 MB/s eta 0:00:01\r",
      "\u001b[K     |███████████████████████████████ | 655 kB 5.2 MB/s eta 0:00:01\r",
      "\u001b[K     |███████████████████████████████▋| 665 kB 5.2 MB/s eta 0:00:01\r",
      "\u001b[K     |████████████████████████████████| 674 kB 5.2 MB/s \n",
      "\u001b[?25hRequirement already satisfied: tqdm>=4.27 in /usr/local/lib/python3.7/dist-packages (from transformers==2.11.0) (4.62.3)\n",
      "Requirement already satisfied: regex!=2019.12.17 in /usr/local/lib/python3.7/dist-packages (from transformers==2.11.0) (2019.12.20)\n",
      "Collecting tokenizers==0.7.0\n",
      "  Downloading tokenizers-0.7.0-cp37-cp37m-manylinux1_x86_64.whl (5.6 MB)\n",
      "\u001b[K     |████████████████████████████████| 5.6 MB 44.5 MB/s \n",
      "\u001b[?25hRequirement already satisfied: requests in /usr/local/lib/python3.7/dist-packages (from transformers==2.11.0) (2.23.0)\n",
      "Collecting sentencepiece\n",
      "  Downloading sentencepiece-0.1.96-cp37-cp37m-manylinux_2_17_x86_64.manylinux2014_x86_64.whl (1.2 MB)\n",
      "\u001b[K     |████████████████████████████████| 1.2 MB 47.2 MB/s \n",
      "\u001b[?25hRequirement already satisfied: numpy in /usr/local/lib/python3.7/dist-packages (from transformers==2.11.0) (1.21.5)\n",
      "Requirement already satisfied: packaging in /usr/local/lib/python3.7/dist-packages (from transformers==2.11.0) (21.3)\n",
      "Collecting sacremoses\n",
      "  Downloading sacremoses-0.0.47-py2.py3-none-any.whl (895 kB)\n",
      "\u001b[K     |████████████████████████████████| 895 kB 47.6 MB/s \n",
      "\u001b[?25hRequirement already satisfied: filelock in /usr/local/lib/python3.7/dist-packages (from transformers==2.11.0) (3.4.2)\n",
      "Requirement already satisfied: pyparsing!=3.0.5,>=2.0.2 in /usr/local/lib/python3.7/dist-packages (from packaging->transformers==2.11.0) (3.0.7)\n",
      "Requirement already satisfied: idna<3,>=2.5 in /usr/local/lib/python3.7/dist-packages (from requests->transformers==2.11.0) (2.10)\n",
      "Requirement already satisfied: urllib3!=1.25.0,!=1.25.1,<1.26,>=1.21.1 in /usr/local/lib/python3.7/dist-packages (from requests->transformers==2.11.0) (1.24.3)\n",
      "Requirement already satisfied: chardet<4,>=3.0.2 in /usr/local/lib/python3.7/dist-packages (from requests->transformers==2.11.0) (3.0.4)\n",
      "Requirement already satisfied: certifi>=2017.4.17 in /usr/local/lib/python3.7/dist-packages (from requests->transformers==2.11.0) (2021.10.8)\n",
      "Requirement already satisfied: six in /usr/local/lib/python3.7/dist-packages (from sacremoses->transformers==2.11.0) (1.15.0)\n",
      "Requirement already satisfied: joblib in /usr/local/lib/python3.7/dist-packages (from sacremoses->transformers==2.11.0) (1.1.0)\n",
      "Requirement already satisfied: click in /usr/local/lib/python3.7/dist-packages (from sacremoses->transformers==2.11.0) (7.1.2)\n",
      "Installing collected packages: tokenizers, sentencepiece, sacremoses, transformers\n",
      "Successfully installed sacremoses-0.0.47 sentencepiece-0.1.96 tokenizers-0.7.0 transformers-2.11.0\n"
     ]
    }
   ],
   "source": [
    "!pip install transformers==2.11.0"
   ]
  },
  {
   "cell_type": "code",
   "execution_count": 9,
   "metadata": {
    "id": "aEpmlHIX6oKk"
   },
   "outputs": [],
   "source": [
    "import transformers"
   ]
  },
  {
   "cell_type": "markdown",
   "metadata": {
    "id": "Frnqpo4i4VAy"
   },
   "source": [
    "# Dataset"
   ]
  },
  {
   "cell_type": "code",
   "execution_count": 10,
   "metadata": {
    "id": "UWoxjTBSAP08"
   },
   "outputs": [],
   "source": [
    "class Dataset(keras.utils.Sequence):\n",
    "\n",
    "  def __init__(self, df, max_length, batch, shuffle=True):\n",
    "\n",
    "    self.df=df[['question1', 'question2', 'is_duplicate']]\n",
    "    self.max_length=max_length\n",
    "    self.batch=batch\n",
    "    self.shuffle=shuffle\n",
    "\n",
    "    self.tokenizer=transformers.BertTokenizer.from_pretrained(\"bert-base-uncased\", do_lower_case=True)\n",
    "    self.indexes = np.arange(df.shape[0])\n",
    "\n",
    "  def __len__(self):\n",
    "    return self.df.shape[0]//self.batch\n",
    "\n",
    "  def __getitem__(self, index):\n",
    "    i=index * self.batch \n",
    "    j=min( (index + 1) * self.batch, self.df.shape[0])\n",
    "\n",
    "    df_temp=df.iloc[i:j,:]\n",
    "    ques_pairs=df_temp[['question1', 'question2']].values.astype(\"str\").tolist()\n",
    "    out=df_temp['is_duplicate'].values\n",
    "\n",
    "    encoded = self.tokenizer.batch_encode_plus(\n",
    "                ques_pairs,\n",
    "                add_special_tokens=True,\n",
    "                max_length=self.max_length,\n",
    "                return_attention_mask=True,\n",
    "                return_token_type_ids=True,\n",
    "                pad_to_max_length=True,\n",
    "                return_tensors=\"tf\", )\n",
    "\n",
    "    input_id = np.array(encoded[\"input_ids\"], dtype=\"int32\")\n",
    "    attention_mask = np.array(encoded[\"attention_mask\"], dtype=\"int32\")\n",
    "    token_type_id  = np.array(encoded[\"token_type_ids\"], dtype=\"int32\")\n",
    "\n",
    "    return ([input_id, attention_mask, token_type_id], out)\n",
    "\n",
    "\n",
    "  def on_epoch_end(self):\n",
    "    if self.shuffle:\n",
    "      np.random.shuffle(self.indexes)\n"
   ]
  },
  {
   "cell_type": "code",
   "execution_count": 11,
   "metadata": {
    "colab": {
     "base_uri": "https://localhost:8080/"
    },
    "id": "3kZo4gOe66PA",
    "outputId": "4123df41-db69-4402-947d-c4d3358470e4"
   },
   "outputs": [
    {
     "data": {
      "text/plain": [
       "(404290, 6)"
      ]
     },
     "execution_count": 11,
     "metadata": {},
     "output_type": "execute_result"
    }
   ],
   "source": [
    "# read data file\n",
    "\n",
    "df=pd.read_csv(\"data.csv\")\n",
    "df.shape"
   ]
  },
  {
   "cell_type": "code",
   "execution_count": 12,
   "metadata": {
    "colab": {
     "base_uri": "https://localhost:8080/",
     "height": 125,
     "referenced_widgets": [
      "e4522413538548d889eca27658a42005",
      "81010ed388ea434ab05e2c90f6501017",
      "811860ae7f4045c6a712ceca71b7961e",
      "2d8017fcb18148beba116dbfce1a7c7a",
      "bfb34f30d44c40d6b2b227c28c1ac91d",
      "9863fb9b35d9414caa7b7d1fdb83c87a",
      "d7f379c277d44ec09216f19ea5869851",
      "3a301b7ab000425e8ce8ba49f1a0b5d9",
      "502b5d7698284bf0ba881adfb5bfa26b",
      "64214e6f2c9a4f8d859cd45f7146a596",
      "062c556a282d44edad48ec840996e9ca"
     ]
    },
    "id": "8pbORjHN1bJD",
    "outputId": "133b7b7b-1c6e-4a47-eb48-f1a03aae6c62"
   },
   "outputs": [
    {
     "data": {
      "application/vnd.jupyter.widget-view+json": {
       "model_id": "e4522413538548d889eca27658a42005",
       "version_major": 2,
       "version_minor": 0
      },
      "text/plain": [
       "Downloading:   0%|          | 0.00/232k [00:00<?, ?B/s]"
      ]
     },
     "metadata": {},
     "output_type": "display_data"
    }
   ],
   "source": [
    "max_length=40\n",
    "batch=512\n",
    "\n",
    "N=df.shape[0]\n",
    "N2=int(N*0.80)\n",
    "\n",
    "train_df=df.iloc[:N2, :]\n",
    "test_df=df.iloc[N2:, :]\n",
    "\n",
    "train_dataset=Dataset(train_df, max_length, batch)\n",
    "test_dataset=Dataset(test_df, max_length, batch)"
   ]
  },
  {
   "cell_type": "code",
   "execution_count": 13,
   "metadata": {
    "colab": {
     "base_uri": "https://localhost:8080/"
    },
    "id": "pGgslR-PeHBG",
    "outputId": "b40e123c-57b8-4eae-db58-f953ebeab2fd"
   },
   "outputs": [
    {
     "data": {
      "text/plain": [
       "((323432, 6), (80858, 6))"
      ]
     },
     "execution_count": 13,
     "metadata": {},
     "output_type": "execute_result"
    }
   ],
   "source": [
    "train_df.shape, test_df.shape"
   ]
  },
  {
   "cell_type": "markdown",
   "metadata": {
    "id": "XIH2oCIS1Vgd"
   },
   "source": [
    "# Model"
   ]
  },
  {
   "cell_type": "code",
   "execution_count": 14,
   "metadata": {
    "id": "a6pQ5UAYFHWu"
   },
   "outputs": [],
   "source": [
    "def create_model(max_length):\n",
    "    id_input = Input(shape=(max_length,), dtype=tf.int32, name=\"input_ids\")\n",
    "    attention_masks_input =Input(shape=(max_length,), dtype=tf.int32, name=\"attention_masks\")\n",
    "    token_type_ids_input = Input(shape=(max_length,), dtype=tf.int32, name=\"token_type_ids\")\n",
    "\n",
    "    bert_model = transformers.TFBertModel.from_pretrained(\"bert-base-uncased\")\n",
    "    bert_model.trainable = False\n",
    "\n",
    "    sequence_out, pool_out = bert_model(id_input, \n",
    "                                                attention_mask=attention_masks_input, \n",
    "                                                token_type_ids=token_type_ids_input)\n",
    "\n",
    "    bidir = Bidirectional(GRU(64, return_sequences=True))(sequence_out)\n",
    "    \n",
    "    avg_pool = GlobalAveragePooling1D()(bidir)\n",
    "    max_pool = GlobalMaxPooling1D()(bidir)\n",
    "\n",
    "    x = concatenate([avg_pool, max_pool])\n",
    "    output = Dense(1, activation=\"sigmoid\")(x)\n",
    "\n",
    "    model = Model( inputs=[id_input, attention_masks_input, token_type_ids_input], outputs=output )  \n",
    "\n",
    "    return model\n"
   ]
  },
  {
   "cell_type": "code",
   "execution_count": 15,
   "metadata": {
    "colab": {
     "base_uri": "https://localhost:8080/",
     "height": 769,
     "referenced_widgets": [
      "1655cd353e4e4c3e9e64b2dd7fef105e",
      "ce402819a9f6490f8903391d8435b4cc",
      "dea6e611b1db4921ab7a1dc62fb67f2d",
      "2bb020b4ebb24a20905c0fcc67bd18a5",
      "6a2829c333d344c0b4bd7c01994ec088",
      "d637b249a1bc4b9b85e6add62bd5cba3",
      "4048e431c0aa48be8a2fca1c640686c3",
      "55ea975ebfa245fdb6ebc365787a5ff0",
      "22a73af8be37470db0726fb960f9aa36",
      "35b9aec20e1e439d95ef1a5ab023f278",
      "fa853782962a4ba89188ad82ed39ab8a",
      "3bc125af166446e8906ddcf9e80909fb",
      "9a65ae3e604d4b09998d83133e9e3cb5",
      "cbc1d09068714602baf246712b585053",
      "18dbd2ab7a6b451980a8fcdb45fb896b",
      "66dc1094906746d391e5281a34032a1c",
      "e20d68ce56224d1780240d91aee4bd38",
      "61c62ede8a8945a6b433b5dac3ab27a5",
      "a00073a29dd842f086fa763ce5d46ef4",
      "810b367b519a4a56ba450bfb039e7dd2",
      "09e2a7b918554f91958f1896bd126b07",
      "851371debed043b6bf763857f876bb64"
     ]
    },
    "id": "K-p_d-IUaZvU",
    "outputId": "d26158b8-2d46-4cbe-c10b-b4fe66f95d34"
   },
   "outputs": [
    {
     "data": {
      "application/vnd.jupyter.widget-view+json": {
       "model_id": "1655cd353e4e4c3e9e64b2dd7fef105e",
       "version_major": 2,
       "version_minor": 0
      },
      "text/plain": [
       "Downloading:   0%|          | 0.00/433 [00:00<?, ?B/s]"
      ]
     },
     "metadata": {},
     "output_type": "display_data"
    },
    {
     "data": {
      "application/vnd.jupyter.widget-view+json": {
       "model_id": "3bc125af166446e8906ddcf9e80909fb",
       "version_major": 2,
       "version_minor": 0
      },
      "text/plain": [
       "Downloading:   0%|          | 0.00/536M [00:00<?, ?B/s]"
      ]
     },
     "metadata": {},
     "output_type": "display_data"
    },
    {
     "name": "stdout",
     "output_type": "stream",
     "text": [
      "Model: \"model\"\n",
      "__________________________________________________________________________________________________\n",
      " Layer (type)                   Output Shape         Param #     Connected to                     \n",
      "==================================================================================================\n",
      " input_ids (InputLayer)         [(None, 40)]         0           []                               \n",
      "                                                                                                  \n",
      " attention_masks (InputLayer)   [(None, 40)]         0           []                               \n",
      "                                                                                                  \n",
      " token_type_ids (InputLayer)    [(None, 40)]         0           []                               \n",
      "                                                                                                  \n",
      " tf_bert_model (TFBertModel)    ((None, 40, 768),    109482240   ['input_ids[0][0]',              \n",
      "                                 (None, 768))                     'attention_masks[0][0]',        \n",
      "                                                                  'token_type_ids[0][0]']         \n",
      "                                                                                                  \n",
      " bidirectional (Bidirectional)  (None, 40, 128)      320256      ['tf_bert_model[0][0]']          \n",
      "                                                                                                  \n",
      " global_average_pooling1d (Glob  (None, 128)         0           ['bidirectional[0][0]']          \n",
      " alAveragePooling1D)                                                                              \n",
      "                                                                                                  \n",
      " global_max_pooling1d (GlobalMa  (None, 128)         0           ['bidirectional[0][0]']          \n",
      " xPooling1D)                                                                                      \n",
      "                                                                                                  \n",
      " concatenate (Concatenate)      (None, 256)          0           ['global_average_pooling1d[0][0]'\n",
      "                                                                 , 'global_max_pooling1d[0][0]']  \n",
      "                                                                                                  \n",
      " dense (Dense)                  (None, 1)            257         ['concatenate[0][0]']            \n",
      "                                                                                                  \n",
      "==================================================================================================\n",
      "Total params: 109,802,753\n",
      "Trainable params: 320,513\n",
      "Non-trainable params: 109,482,240\n",
      "__________________________________________________________________________________________________\n"
     ]
    }
   ],
   "source": [
    "K.clear_session()\n",
    "model=create_model(max_length)\n",
    "model.summary()"
   ]
  },
  {
   "cell_type": "markdown",
   "metadata": {
    "id": "0FPo8pJz7PYn"
   },
   "source": [
    "# Train"
   ]
  },
  {
   "cell_type": "code",
   "execution_count": 16,
   "metadata": {
    "id": "hMNieygD8IQv"
   },
   "outputs": [],
   "source": [
    "loss=\"binary_crossentropy\"\n",
    "\n",
    "model.compile(optimizer=Adam(learning_rate=1E-3), loss=loss, metrics=[\"accuracy\"])"
   ]
  },
  {
   "cell_type": "code",
   "execution_count": 17,
   "metadata": {
    "colab": {
     "base_uri": "https://localhost:8080/"
    },
    "id": "BDVPKKyRaZyo",
    "outputId": "a416a41a-55f8-4de4-f393-b5f213daa051"
   },
   "outputs": [
    {
     "name": "stdout",
     "output_type": "stream",
     "text": [
      "Epoch 1/10\n",
      "631/631 [==============================] - 2405s 4s/step - loss: 0.4102 - accuracy: 0.7998 - val_loss: 0.3407 - val_accuracy: 0.8435\n",
      "Epoch 2/10\n",
      "631/631 [==============================] - 2377s 4s/step - loss: 0.3445 - accuracy: 0.8409 - val_loss: 0.3042 - val_accuracy: 0.8646\n",
      "Epoch 3/10\n",
      "631/631 [==============================] - 2378s 4s/step - loss: 0.3194 - accuracy: 0.8552 - val_loss: 0.2830 - val_accuracy: 0.8758\n",
      "Epoch 4/10\n",
      "631/631 [==============================] - 2379s 4s/step - loss: 0.3015 - accuracy: 0.8643 - val_loss: 0.2704 - val_accuracy: 0.8819\n",
      "Epoch 5/10\n",
      "631/631 [==============================] - 2380s 4s/step - loss: 0.2889 - accuracy: 0.8713 - val_loss: 0.2479 - val_accuracy: 0.8937\n",
      "Epoch 6/10\n",
      "631/631 [==============================] - 2385s 4s/step - loss: 0.2755 - accuracy: 0.8785 - val_loss: 0.2360 - val_accuracy: 0.9004\n",
      "Epoch 7/10\n",
      "631/631 [==============================] - 2385s 4s/step - loss: 0.2655 - accuracy: 0.8832 - val_loss: 0.2321 - val_accuracy: 0.9022\n",
      "Epoch 8/10\n",
      "631/631 [==============================] - 2386s 4s/step - loss: 0.2567 - accuracy: 0.8879 - val_loss: 0.2122 - val_accuracy: 0.9119\n",
      "Epoch 9/10\n",
      "631/631 [==============================] - 2384s 4s/step - loss: 0.2484 - accuracy: 0.8923 - val_loss: 0.2159 - val_accuracy: 0.9093\n",
      "Epoch 10/10\n",
      "631/631 [==============================] - 2379s 4s/step - loss: 0.2405 - accuracy: 0.8960 - val_loss: 0.2225 - val_accuracy: 0.9052\n"
     ]
    }
   ],
   "source": [
    "epochs=10\n",
    "\n",
    "history=model.fit(train_dataset, \n",
    "          epochs=epochs,\n",
    "          validation_data=test_dataset)"
   ]
  },
  {
   "cell_type": "code",
   "execution_count": 18,
   "metadata": {
    "colab": {
     "base_uri": "https://localhost:8080/",
     "height": 336
    },
    "id": "d-sbiecBQtSj",
    "outputId": "3932d4c1-20a7-4c3b-cd17-8177b346e19d"
   },
   "outputs": [
    {
     "data": {
      "image/png": "[encoded data removed]",
      "text/plain": [
       "<Figure size 1080x360 with 2 Axes>"
      ]
     },
     "metadata": {
      "needs_background": "light"
     },
     "output_type": "display_data"
    }
   ],
   "source": [
    "loss=history.history[\"loss\"]\n",
    "acc=history.history[\"accuracy\"]\n",
    "val_loss=history.history[\"val_loss\"]\n",
    "val_acc=history.history[\"val_accuracy\"]\n",
    "\n",
    "_, ax=plt.subplots(1,2,figsize=(15,5))\n",
    "ax=ax.ravel()\n",
    "\n",
    "ax[0].set_title(\"loss\")\n",
    "ax[0].plot(loss, \"-bo\")\n",
    "ax[0].plot(val_loss, \"-ro\")\n",
    "ax[0].legend([\"train\", \"test\"])\n",
    "\n",
    "ax[1].set_title(\"accuracy\")\n",
    "ax[1].plot(acc, \"-bo\")\n",
    "ax[1].plot(val_acc, \"-ro\")\n",
    "ax[1].legend([\"train\", \"test\"])\n",
    "\n",
    "plt.show()"
   ]
  },
  {
   "cell_type": "markdown",
   "metadata": {},
   "source": [
    "The accuracy acheived is 91%"
   ]
  },
  {
   "cell_type": "code",
   "execution_count": null,
   "metadata": {
    "id": "Fnk5E0KiH4Gl"
   },
   "outputs": [],
   "source": []
  }
 ],
 "metadata": {
  "accelerator": "GPU",
  "colab": {
   "collapsed_sections": [
    "P5DMCi3gOW5B",
    "_XbMdDeIfezH",
    "Frnqpo4i4VAy",
    "XIH2oCIS1Vgd"
   ],
   "name": "BERT.ipynb",
   "provenance": []
  },
  "kernelspec": {
   "display_name": "Python 3",
   "language": "python",
   "name": "python3"
  },
  "language_info": {
   "codemirror_mode": {
    "name": "ipython",
    "version": 3
   },
   "file_extension": ".py",
   "mimetype": "text/x-python",
   "name": "python",
   "nbconvert_exporter": "python",
   "pygments_lexer": "ipython3",
   "version": "3.8.5"
  },
  "widgets": {
   "application/vnd.jupyter.widget-state+json": {
    "062c556a282d44edad48ec840996e9ca": {
     "model_module": "@jupyter-widgets/base",
     "model_module_version": "1.2.0",
     "model_name": "LayoutModel",
     "state": {
      "_model_module": "@jupyter-widgets/base",
      "_model_module_version": "1.2.0",
      "_model_name": "LayoutModel",
      "_view_count": null,
      "_view_module": "@jupyter-widgets/base",
      "_view_module_version": "1.2.0",
      "_view_name": "LayoutView",
      "align_content": null,
      "align_items": null,
      "align_self": null,
      "border": null,
      "bottom": null,
      "display": null,
      "flex": null,
      "flex_flow": null,
      "grid_area": null,
      "grid_auto_columns": null,
      "grid_auto_flow": null,
      "grid_auto_rows": null,
      "grid_column": null,
      "grid_gap": null,
      "grid_row": null,
      "grid_template_areas": null,
      "grid_template_columns": null,
      "grid_template_rows": null,
      "height": null,
      "justify_content": null,
      "justify_items": null,
      "left": null,
      "margin": null,
      "max_height": null,
      "max_width": null,
      "min_height": null,
      "min_width": null,
      "object_fit": null,
      "object_position": null,
      "order": null,
      "overflow": null,
      "overflow_x": null,
      "overflow_y": null,
      "padding": null,
      "right": null,
      "top": null,
      "visibility": null,
      "width": null
     }
    },
    "09e2a7b918554f91958f1896bd126b07": {
     "model_module": "@jupyter-widgets/controls",
     "model_module_version": "1.5.0",
     "model_name": "DescriptionStyleModel",
     "state": {
      "_model_module": "@jupyter-widgets/controls",
      "_model_module_version": "1.5.0",
      "_model_name": "DescriptionStyleModel",
      "_view_count": null,
      "_view_module": "@jupyter-widgets/base",
      "_view_module_version": "1.2.0",
      "_view_name": "StyleView",
      "description_width": ""
     }
    },
    "1655cd353e4e4c3e9e64b2dd7fef105e": {
     "model_module": "@jupyter-widgets/controls",
     "model_module_version": "1.5.0",
     "model_name": "HBoxModel",
     "state": {
      "_dom_classes": [],
      "_model_module": "@jupyter-widgets/controls",
      "_model_module_version": "1.5.0",
      "_model_name": "HBoxModel",
      "_view_count": null,
      "_view_module": "@jupyter-widgets/controls",
      "_view_module_version": "1.5.0",
      "_view_name": "HBoxView",
      "box_style": "",
      "children": [
       "IPY_MODEL_dea6e611b1db4921ab7a1dc62fb67f2d",
       "IPY_MODEL_2bb020b4ebb24a20905c0fcc67bd18a5",
       "IPY_MODEL_6a2829c333d344c0b4bd7c01994ec088"
      ],
      "layout": "IPY_MODEL_ce402819a9f6490f8903391d8435b4cc"
     }
    },
    "18dbd2ab7a6b451980a8fcdb45fb896b": {
     "model_module": "@jupyter-widgets/controls",
     "model_module_version": "1.5.0",
     "model_name": "FloatProgressModel",
     "state": {
      "_dom_classes": [],
      "_model_module": "@jupyter-widgets/controls",
      "_model_module_version": "1.5.0",
      "_model_name": "FloatProgressModel",
      "_view_count": null,
      "_view_module": "@jupyter-widgets/controls",
      "_view_module_version": "1.5.0",
      "_view_name": "ProgressView",
      "bar_style": "success",
      "description": "",
      "description_tooltip": null,
      "layout": "IPY_MODEL_810b367b519a4a56ba450bfb039e7dd2",
      "max": 536063208,
      "min": 0,
      "orientation": "horizontal",
      "style": "IPY_MODEL_a00073a29dd842f086fa763ce5d46ef4",
      "value": 536063208
     }
    },
    "22a73af8be37470db0726fb960f9aa36": {
     "model_module": "@jupyter-widgets/base",
     "model_module_version": "1.2.0",
     "model_name": "LayoutModel",
     "state": {
      "_model_module": "@jupyter-widgets/base",
      "_model_module_version": "1.2.0",
      "_model_name": "LayoutModel",
      "_view_count": null,
      "_view_module": "@jupyter-widgets/base",
      "_view_module_version": "1.2.0",
      "_view_name": "LayoutView",
      "align_content": null,
      "align_items": null,
      "align_self": null,
      "border": null,
      "bottom": null,
      "display": null,
      "flex": null,
      "flex_flow": null,
      "grid_area": null,
      "grid_auto_columns": null,
      "grid_auto_flow": null,
      "grid_auto_rows": null,
      "grid_column": null,
      "grid_gap": null,
      "grid_row": null,
      "grid_template_areas": null,
      "grid_template_columns": null,
      "grid_template_rows": null,
      "height": null,
      "justify_content": null,
      "justify_items": null,
      "left": null,
      "margin": null,
      "max_height": null,
      "max_width": null,
      "min_height": null,
      "min_width": null,
      "object_fit": null,
      "object_position": null,
      "order": null,
      "overflow": null,
      "overflow_x": null,
      "overflow_y": null,
      "padding": null,
      "right": null,
      "top": null,
      "visibility": null,
      "width": null
     }
    },
    "2bb020b4ebb24a20905c0fcc67bd18a5": {
     "model_module": "@jupyter-widgets/controls",
     "model_module_version": "1.5.0",
     "model_name": "FloatProgressModel",
     "state": {
      "_dom_classes": [],
      "_model_module": "@jupyter-widgets/controls",
      "_model_module_version": "1.5.0",
      "_model_name": "FloatProgressModel",
      "_view_count": null,
      "_view_module": "@jupyter-widgets/controls",
      "_view_module_version": "1.5.0",
      "_view_name": "ProgressView",
      "bar_style": "success",
      "description": "",
      "description_tooltip": null,
      "layout": "IPY_MODEL_22a73af8be37470db0726fb960f9aa36",
      "max": 433,
      "min": 0,
      "orientation": "horizontal",
      "style": "IPY_MODEL_55ea975ebfa245fdb6ebc365787a5ff0",
      "value": 433
     }
    },
    "2d8017fcb18148beba116dbfce1a7c7a": {
     "model_module": "@jupyter-widgets/controls",
     "model_module_version": "1.5.0",
     "model_name": "FloatProgressModel",
     "state": {
      "_dom_classes": [],
      "_model_module": "@jupyter-widgets/controls",
      "_model_module_version": "1.5.0",
      "_model_name": "FloatProgressModel",
      "_view_count": null,
      "_view_module": "@jupyter-widgets/controls",
      "_view_module_version": "1.5.0",
      "_view_name": "ProgressView",
      "bar_style": "success",
      "description": "",
      "description_tooltip": null,
      "layout": "IPY_MODEL_502b5d7698284bf0ba881adfb5bfa26b",
      "max": 231508,
      "min": 0,
      "orientation": "horizontal",
      "style": "IPY_MODEL_3a301b7ab000425e8ce8ba49f1a0b5d9",
      "value": 231508
     }
    },
    "35b9aec20e1e439d95ef1a5ab023f278": {
     "model_module": "@jupyter-widgets/controls",
     "model_module_version": "1.5.0",
     "model_name": "DescriptionStyleModel",
     "state": {
      "_model_module": "@jupyter-widgets/controls",
      "_model_module_version": "1.5.0",
      "_model_name": "DescriptionStyleModel",
      "_view_count": null,
      "_view_module": "@jupyter-widgets/base",
      "_view_module_version": "1.2.0",
      "_view_name": "StyleView",
      "description_width": ""
     }
    },
    "3a301b7ab000425e8ce8ba49f1a0b5d9": {
     "model_module": "@jupyter-widgets/controls",
     "model_module_version": "1.5.0",
     "model_name": "ProgressStyleModel",
     "state": {
      "_model_module": "@jupyter-widgets/controls",
      "_model_module_version": "1.5.0",
      "_model_name": "ProgressStyleModel",
      "_view_count": null,
      "_view_module": "@jupyter-widgets/base",
      "_view_module_version": "1.2.0",
      "_view_name": "StyleView",
      "bar_color": null,
      "description_width": ""
     }
    },
    "3bc125af166446e8906ddcf9e80909fb": {
     "model_module": "@jupyter-widgets/controls",
     "model_module_version": "1.5.0",
     "model_name": "HBoxModel",
     "state": {
      "_dom_classes": [],
      "_model_module": "@jupyter-widgets/controls",
      "_model_module_version": "1.5.0",
      "_model_name": "HBoxModel",
      "_view_count": null,
      "_view_module": "@jupyter-widgets/controls",
      "_view_module_version": "1.5.0",
      "_view_name": "HBoxView",
      "box_style": "",
      "children": [
       "IPY_MODEL_cbc1d09068714602baf246712b585053",
       "IPY_MODEL_18dbd2ab7a6b451980a8fcdb45fb896b",
       "IPY_MODEL_66dc1094906746d391e5281a34032a1c"
      ],
      "layout": "IPY_MODEL_9a65ae3e604d4b09998d83133e9e3cb5"
     }
    },
    "4048e431c0aa48be8a2fca1c640686c3": {
     "model_module": "@jupyter-widgets/base",
     "model_module_version": "1.2.0",
     "model_name": "LayoutModel",
     "state": {
      "_model_module": "@jupyter-widgets/base",
      "_model_module_version": "1.2.0",
      "_model_name": "LayoutModel",
      "_view_count": null,
      "_view_module": "@jupyter-widgets/base",
      "_view_module_version": "1.2.0",
      "_view_name": "LayoutView",
      "align_content": null,
      "align_items": null,
      "align_self": null,
      "border": null,
      "bottom": null,
      "display": null,
      "flex": null,
      "flex_flow": null,
      "grid_area": null,
      "grid_auto_columns": null,
      "grid_auto_flow": null,
      "grid_auto_rows": null,
      "grid_column": null,
      "grid_gap": null,
      "grid_row": null,
      "grid_template_areas": null,
      "grid_template_columns": null,
      "grid_template_rows": null,
      "height": null,
      "justify_content": null,
      "justify_items": null,
      "left": null,
      "margin": null,
      "max_height": null,
      "max_width": null,
      "min_height": null,
      "min_width": null,
      "object_fit": null,
      "object_position": null,
      "order": null,
      "overflow": null,
      "overflow_x": null,
      "overflow_y": null,
      "padding": null,
      "right": null,
      "top": null,
      "visibility": null,
      "width": null
     }
    },
    "502b5d7698284bf0ba881adfb5bfa26b": {
     "model_module": "@jupyter-widgets/base",
     "model_module_version": "1.2.0",
     "model_name": "LayoutModel",
     "state": {
      "_model_module": "@jupyter-widgets/base",
      "_model_module_version": "1.2.0",
      "_model_name": "LayoutModel",
      "_view_count": null,
      "_view_module": "@jupyter-widgets/base",
      "_view_module_version": "1.2.0",
      "_view_name": "LayoutView",
      "align_content": null,
      "align_items": null,
      "align_self": null,
      "border": null,
      "bottom": null,
      "display": null,
      "flex": null,
      "flex_flow": null,
      "grid_area": null,
      "grid_auto_columns": null,
      "grid_auto_flow": null,
      "grid_auto_rows": null,
      "grid_column": null,
      "grid_gap": null,
      "grid_row": null,
      "grid_template_areas": null,
      "grid_template_columns": null,
      "grid_template_rows": null,
      "height": null,
      "justify_content": null,
      "justify_items": null,
      "left": null,
      "margin": null,
      "max_height": null,
      "max_width": null,
      "min_height": null,
      "min_width": null,
      "object_fit": null,
      "object_position": null,
      "order": null,
      "overflow": null,
      "overflow_x": null,
      "overflow_y": null,
      "padding": null,
      "right": null,
      "top": null,
      "visibility": null,
      "width": null
     }
    },
    "55ea975ebfa245fdb6ebc365787a5ff0": {
     "model_module": "@jupyter-widgets/controls",
     "model_module_version": "1.5.0",
     "model_name": "ProgressStyleModel",
     "state": {
      "_model_module": "@jupyter-widgets/controls",
      "_model_module_version": "1.5.0",
      "_model_name": "ProgressStyleModel",
      "_view_count": null,
      "_view_module": "@jupyter-widgets/base",
      "_view_module_version": "1.2.0",
      "_view_name": "StyleView",
      "bar_color": null,
      "description_width": ""
     }
    },
    "61c62ede8a8945a6b433b5dac3ab27a5": {
     "model_module": "@jupyter-widgets/base",
     "model_module_version": "1.2.0",
     "model_name": "LayoutModel",
     "state": {
      "_model_module": "@jupyter-widgets/base",
      "_model_module_version": "1.2.0",
      "_model_name": "LayoutModel",
      "_view_count": null,
      "_view_module": "@jupyter-widgets/base",
      "_view_module_version": "1.2.0",
      "_view_name": "LayoutView",
      "align_content": null,
      "align_items": null,
      "align_self": null,
      "border": null,
      "bottom": null,
      "display": null,
      "flex": null,
      "flex_flow": null,
      "grid_area": null,
      "grid_auto_columns": null,
      "grid_auto_flow": null,
      "grid_auto_rows": null,
      "grid_column": null,
      "grid_gap": null,
      "grid_row": null,
      "grid_template_areas": null,
      "grid_template_columns": null,
      "grid_template_rows": null,
      "height": null,
      "justify_content": null,
      "justify_items": null,
      "left": null,
      "margin": null,
      "max_height": null,
      "max_width": null,
      "min_height": null,
      "min_width": null,
      "object_fit": null,
      "object_position": null,
      "order": null,
      "overflow": null,
      "overflow_x": null,
      "overflow_y": null,
      "padding": null,
      "right": null,
      "top": null,
      "visibility": null,
      "width": null
     }
    },
    "64214e6f2c9a4f8d859cd45f7146a596": {
     "model_module": "@jupyter-widgets/controls",
     "model_module_version": "1.5.0",
     "model_name": "DescriptionStyleModel",
     "state": {
      "_model_module": "@jupyter-widgets/controls",
      "_model_module_version": "1.5.0",
      "_model_name": "DescriptionStyleModel",
      "_view_count": null,
      "_view_module": "@jupyter-widgets/base",
      "_view_module_version": "1.2.0",
      "_view_name": "StyleView",
      "description_width": ""
     }
    },
    "66dc1094906746d391e5281a34032a1c": {
     "model_module": "@jupyter-widgets/controls",
     "model_module_version": "1.5.0",
     "model_name": "HTMLModel",
     "state": {
      "_dom_classes": [],
      "_model_module": "@jupyter-widgets/controls",
      "_model_module_version": "1.5.0",
      "_model_name": "HTMLModel",
      "_view_count": null,
      "_view_module": "@jupyter-widgets/controls",
      "_view_module_version": "1.5.0",
      "_view_name": "HTMLView",
      "description": "",
      "description_tooltip": null,
      "layout": "IPY_MODEL_851371debed043b6bf763857f876bb64",
      "placeholder": "​",
      "style": "IPY_MODEL_09e2a7b918554f91958f1896bd126b07",
      "value": " 536M/536M [00:45&lt;00:00, 36.2MB/s]"
     }
    },
    "6a2829c333d344c0b4bd7c01994ec088": {
     "model_module": "@jupyter-widgets/controls",
     "model_module_version": "1.5.0",
     "model_name": "HTMLModel",
     "state": {
      "_dom_classes": [],
      "_model_module": "@jupyter-widgets/controls",
      "_model_module_version": "1.5.0",
      "_model_name": "HTMLModel",
      "_view_count": null,
      "_view_module": "@jupyter-widgets/controls",
      "_view_module_version": "1.5.0",
      "_view_name": "HTMLView",
      "description": "",
      "description_tooltip": null,
      "layout": "IPY_MODEL_fa853782962a4ba89188ad82ed39ab8a",
      "placeholder": "​",
      "style": "IPY_MODEL_35b9aec20e1e439d95ef1a5ab023f278",
      "value": " 433/433 [00:00&lt;00:00, 11.5kB/s]"
     }
    },
    "81010ed388ea434ab05e2c90f6501017": {
     "model_module": "@jupyter-widgets/base",
     "model_module_version": "1.2.0",
     "model_name": "LayoutModel",
     "state": {
      "_model_module": "@jupyter-widgets/base",
      "_model_module_version": "1.2.0",
      "_model_name": "LayoutModel",
      "_view_count": null,
      "_view_module": "@jupyter-widgets/base",
      "_view_module_version": "1.2.0",
      "_view_name": "LayoutView",
      "align_content": null,
      "align_items": null,
      "align_self": null,
      "border": null,
      "bottom": null,
      "display": null,
      "flex": null,
      "flex_flow": null,
      "grid_area": null,
      "grid_auto_columns": null,
      "grid_auto_flow": null,
      "grid_auto_rows": null,
      "grid_column": null,
      "grid_gap": null,
      "grid_row": null,
      "grid_template_areas": null,
      "grid_template_columns": null,
      "grid_template_rows": null,
      "height": null,
      "justify_content": null,
      "justify_items": null,
      "left": null,
      "margin": null,
      "max_height": null,
      "max_width": null,
      "min_height": null,
      "min_width": null,
      "object_fit": null,
      "object_position": null,
      "order": null,
      "overflow": null,
      "overflow_x": null,
      "overflow_y": null,
      "padding": null,
      "right": null,
      "top": null,
      "visibility": null,
      "width": null
     }
    },
    "810b367b519a4a56ba450bfb039e7dd2": {
     "model_module": "@jupyter-widgets/base",
     "model_module_version": "1.2.0",
     "model_name": "LayoutModel",
     "state": {
      "_model_module": "@jupyter-widgets/base",
      "_model_module_version": "1.2.0",
      "_model_name": "LayoutModel",
      "_view_count": null,
      "_view_module": "@jupyter-widgets/base",
      "_view_module_version": "1.2.0",
      "_view_name": "LayoutView",
      "align_content": null,
      "align_items": null,
      "align_self": null,
      "border": null,
      "bottom": null,
      "display": null,
      "flex": null,
      "flex_flow": null,
      "grid_area": null,
      "grid_auto_columns": null,
      "grid_auto_flow": null,
      "grid_auto_rows": null,
      "grid_column": null,
      "grid_gap": null,
      "grid_row": null,
      "grid_template_areas": null,
      "grid_template_columns": null,
      "grid_template_rows": null,
      "height": null,
      "justify_content": null,
      "justify_items": null,
      "left": null,
      "margin": null,
      "max_height": null,
      "max_width": null,
      "min_height": null,
      "min_width": null,
      "object_fit": null,
      "object_position": null,
      "order": null,
      "overflow": null,
      "overflow_x": null,
      "overflow_y": null,
      "padding": null,
      "right": null,
      "top": null,
      "visibility": null,
      "width": null
     }
    },
    "811860ae7f4045c6a712ceca71b7961e": {
     "model_module": "@jupyter-widgets/controls",
     "model_module_version": "1.5.0",
     "model_name": "HTMLModel",
     "state": {
      "_dom_classes": [],
      "_model_module": "@jupyter-widgets/controls",
      "_model_module_version": "1.5.0",
      "_model_name": "HTMLModel",
      "_view_count": null,
      "_view_module": "@jupyter-widgets/controls",
      "_view_module_version": "1.5.0",
      "_view_name": "HTMLView",
      "description": "",
      "description_tooltip": null,
      "layout": "IPY_MODEL_d7f379c277d44ec09216f19ea5869851",
      "placeholder": "​",
      "style": "IPY_MODEL_9863fb9b35d9414caa7b7d1fdb83c87a",
      "value": "Downloading: 100%"
     }
    },
    "851371debed043b6bf763857f876bb64": {
     "model_module": "@jupyter-widgets/base",
     "model_module_version": "1.2.0",
     "model_name": "LayoutModel",
     "state": {
      "_model_module": "@jupyter-widgets/base",
      "_model_module_version": "1.2.0",
      "_model_name": "LayoutModel",
      "_view_count": null,
      "_view_module": "@jupyter-widgets/base",
      "_view_module_version": "1.2.0",
      "_view_name": "LayoutView",
      "align_content": null,
      "align_items": null,
      "align_self": null,
      "border": null,
      "bottom": null,
      "display": null,
      "flex": null,
      "flex_flow": null,
      "grid_area": null,
      "grid_auto_columns": null,
      "grid_auto_flow": null,
      "grid_auto_rows": null,
      "grid_column": null,
      "grid_gap": null,
      "grid_row": null,
      "grid_template_areas": null,
      "grid_template_columns": null,
      "grid_template_rows": null,
      "height": null,
      "justify_content": null,
      "justify_items": null,
      "left": null,
      "margin": null,
      "max_height": null,
      "max_width": null,
      "min_height": null,
      "min_width": null,
      "object_fit": null,
      "object_position": null,
      "order": null,
      "overflow": null,
      "overflow_x": null,
      "overflow_y": null,
      "padding": null,
      "right": null,
      "top": null,
      "visibility": null,
      "width": null
     }
    },
    "9863fb9b35d9414caa7b7d1fdb83c87a": {
     "model_module": "@jupyter-widgets/controls",
     "model_module_version": "1.5.0",
     "model_name": "DescriptionStyleModel",
     "state": {
      "_model_module": "@jupyter-widgets/controls",
      "_model_module_version": "1.5.0",
      "_model_name": "DescriptionStyleModel",
      "_view_count": null,
      "_view_module": "@jupyter-widgets/base",
      "_view_module_version": "1.2.0",
      "_view_name": "StyleView",
      "description_width": ""
     }
    },
    "9a65ae3e604d4b09998d83133e9e3cb5": {
     "model_module": "@jupyter-widgets/base",
     "model_module_version": "1.2.0",
     "model_name": "LayoutModel",
     "state": {
      "_model_module": "@jupyter-widgets/base",
      "_model_module_version": "1.2.0",
      "_model_name": "LayoutModel",
      "_view_count": null,
      "_view_module": "@jupyter-widgets/base",
      "_view_module_version": "1.2.0",
      "_view_name": "LayoutView",
      "align_content": null,
      "align_items": null,
      "align_self": null,
      "border": null,
      "bottom": null,
      "display": null,
      "flex": null,
      "flex_flow": null,
      "grid_area": null,
      "grid_auto_columns": null,
      "grid_auto_flow": null,
      "grid_auto_rows": null,
      "grid_column": null,
      "grid_gap": null,
      "grid_row": null,
      "grid_template_areas": null,
      "grid_template_columns": null,
      "grid_template_rows": null,
      "height": null,
      "justify_content": null,
      "justify_items": null,
      "left": null,
      "margin": null,
      "max_height": null,
      "max_width": null,
      "min_height": null,
      "min_width": null,
      "object_fit": null,
      "object_position": null,
      "order": null,
      "overflow": null,
      "overflow_x": null,
      "overflow_y": null,
      "padding": null,
      "right": null,
      "top": null,
      "visibility": null,
      "width": null
     }
    },
    "a00073a29dd842f086fa763ce5d46ef4": {
     "model_module": "@jupyter-widgets/controls",
     "model_module_version": "1.5.0",
     "model_name": "ProgressStyleModel",
     "state": {
      "_model_module": "@jupyter-widgets/controls",
      "_model_module_version": "1.5.0",
      "_model_name": "ProgressStyleModel",
      "_view_count": null,
      "_view_module": "@jupyter-widgets/base",
      "_view_module_version": "1.2.0",
      "_view_name": "StyleView",
      "bar_color": null,
      "description_width": ""
     }
    },
    "bfb34f30d44c40d6b2b227c28c1ac91d": {
     "model_module": "@jupyter-widgets/controls",
     "model_module_version": "1.5.0",
     "model_name": "HTMLModel",
     "state": {
      "_dom_classes": [],
      "_model_module": "@jupyter-widgets/controls",
      "_model_module_version": "1.5.0",
      "_model_name": "HTMLModel",
      "_view_count": null,
      "_view_module": "@jupyter-widgets/controls",
      "_view_module_version": "1.5.0",
      "_view_name": "HTMLView",
      "description": "",
      "description_tooltip": null,
      "layout": "IPY_MODEL_062c556a282d44edad48ec840996e9ca",
      "placeholder": "​",
      "style": "IPY_MODEL_64214e6f2c9a4f8d859cd45f7146a596",
      "value": " 232k/232k [00:00&lt;00:00, 1.45MB/s]"
     }
    },
    "cbc1d09068714602baf246712b585053": {
     "model_module": "@jupyter-widgets/controls",
     "model_module_version": "1.5.0",
     "model_name": "HTMLModel",
     "state": {
      "_dom_classes": [],
      "_model_module": "@jupyter-widgets/controls",
      "_model_module_version": "1.5.0",
      "_model_name": "HTMLModel",
      "_view_count": null,
      "_view_module": "@jupyter-widgets/controls",
      "_view_module_version": "1.5.0",
      "_view_name": "HTMLView",
      "description": "",
      "description_tooltip": null,
      "layout": "IPY_MODEL_61c62ede8a8945a6b433b5dac3ab27a5",
      "placeholder": "​",
      "style": "IPY_MODEL_e20d68ce56224d1780240d91aee4bd38",
      "value": "Downloading: 100%"
     }
    },
    "ce402819a9f6490f8903391d8435b4cc": {
     "model_module": "@jupyter-widgets/base",
     "model_module_version": "1.2.0",
     "model_name": "LayoutModel",
     "state": {
      "_model_module": "@jupyter-widgets/base",
      "_model_module_version": "1.2.0",
      "_model_name": "LayoutModel",
      "_view_count": null,
      "_view_module": "@jupyter-widgets/base",
      "_view_module_version": "1.2.0",
      "_view_name": "LayoutView",
      "align_content": null,
      "align_items": null,
      "align_self": null,
      "border": null,
      "bottom": null,
      "display": null,
      "flex": null,
      "flex_flow": null,
      "grid_area": null,
      "grid_auto_columns": null,
      "grid_auto_flow": null,
      "grid_auto_rows": null,
      "grid_column": null,
      "grid_gap": null,
      "grid_row": null,
      "grid_template_areas": null,
      "grid_template_columns": null,
      "grid_template_rows": null,
      "height": null,
      "justify_content": null,
      "justify_items": null,
      "left": null,
      "margin": null,
      "max_height": null,
      "max_width": null,
      "min_height": null,
      "min_width": null,
      "object_fit": null,
      "object_position": null,
      "order": null,
      "overflow": null,
      "overflow_x": null,
      "overflow_y": null,
      "padding": null,
      "right": null,
      "top": null,
      "visibility": null,
      "width": null
     }
    },
    "d637b249a1bc4b9b85e6add62bd5cba3": {
     "model_module": "@jupyter-widgets/controls",
     "model_module_version": "1.5.0",
     "model_name": "DescriptionStyleModel",
     "state": {
      "_model_module": "@jupyter-widgets/controls",
      "_model_module_version": "1.5.0",
      "_model_name": "DescriptionStyleModel",
      "_view_count": null,
      "_view_module": "@jupyter-widgets/base",
      "_view_module_version": "1.2.0",
      "_view_name": "StyleView",
      "description_width": ""
     }
    },
    "d7f379c277d44ec09216f19ea5869851": {
     "model_module": "@jupyter-widgets/base",
     "model_module_version": "1.2.0",
     "model_name": "LayoutModel",
     "state": {
      "_model_module": "@jupyter-widgets/base",
      "_model_module_version": "1.2.0",
      "_model_name": "LayoutModel",
      "_view_count": null,
      "_view_module": "@jupyter-widgets/base",
      "_view_module_version": "1.2.0",
      "_view_name": "LayoutView",
      "align_content": null,
      "align_items": null,
      "align_self": null,
      "border": null,
      "bottom": null,
      "display": null,
      "flex": null,
      "flex_flow": null,
      "grid_area": null,
      "grid_auto_columns": null,
      "grid_auto_flow": null,
      "grid_auto_rows": null,
      "grid_column": null,
      "grid_gap": null,
      "grid_row": null,
      "grid_template_areas": null,
      "grid_template_columns": null,
      "grid_template_rows": null,
      "height": null,
      "justify_content": null,
      "justify_items": null,
      "left": null,
      "margin": null,
      "max_height": null,
      "max_width": null,
      "min_height": null,
      "min_width": null,
      "object_fit": null,
      "object_position": null,
      "order": null,
      "overflow": null,
      "overflow_x": null,
      "overflow_y": null,
      "padding": null,
      "right": null,
      "top": null,
      "visibility": null,
      "width": null
     }
    },
    "dea6e611b1db4921ab7a1dc62fb67f2d": {
     "model_module": "@jupyter-widgets/controls",
     "model_module_version": "1.5.0",
     "model_name": "HTMLModel",
     "state": {
      "_dom_classes": [],
      "_model_module": "@jupyter-widgets/controls",
      "_model_module_version": "1.5.0",
      "_model_name": "HTMLModel",
      "_view_count": null,
      "_view_module": "@jupyter-widgets/controls",
      "_view_module_version": "1.5.0",
      "_view_name": "HTMLView",
      "description": "",
      "description_tooltip": null,
      "layout": "IPY_MODEL_4048e431c0aa48be8a2fca1c640686c3",
      "placeholder": "​",
      "style": "IPY_MODEL_d637b249a1bc4b9b85e6add62bd5cba3",
      "value": "Downloading: 100%"
     }
    },
    "e20d68ce56224d1780240d91aee4bd38": {
     "model_module": "@jupyter-widgets/controls",
     "model_module_version": "1.5.0",
     "model_name": "DescriptionStyleModel",
     "state": {
      "_model_module": "@jupyter-widgets/controls",
      "_model_module_version": "1.5.0",
      "_model_name": "DescriptionStyleModel",
      "_view_count": null,
      "_view_module": "@jupyter-widgets/base",
      "_view_module_version": "1.2.0",
      "_view_name": "StyleView",
      "description_width": ""
     }
    },
    "e4522413538548d889eca27658a42005": {
     "model_module": "@jupyter-widgets/controls",
     "model_module_version": "1.5.0",
     "model_name": "HBoxModel",
     "state": {
      "_dom_classes": [],
      "_model_module": "@jupyter-widgets/controls",
      "_model_module_version": "1.5.0",
      "_model_name": "HBoxModel",
      "_view_count": null,
      "_view_module": "@jupyter-widgets/controls",
      "_view_module_version": "1.5.0",
      "_view_name": "HBoxView",
      "box_style": "",
      "children": [
       "IPY_MODEL_811860ae7f4045c6a712ceca71b7961e",
       "IPY_MODEL_2d8017fcb18148beba116dbfce1a7c7a",
       "IPY_MODEL_bfb34f30d44c40d6b2b227c28c1ac91d"
      ],
      "layout": "IPY_MODEL_81010ed388ea434ab05e2c90f6501017"
     }
    },
    "fa853782962a4ba89188ad82ed39ab8a": {
     "model_module": "@jupyter-widgets/base",
     "model_module_version": "1.2.0",
     "model_name": "LayoutModel",
     "state": {
      "_model_module": "@jupyter-widgets/base",
      "_model_module_version": "1.2.0",
      "_model_name": "LayoutModel",
      "_view_count": null,
      "_view_module": "@jupyter-widgets/base",
      "_view_module_version": "1.2.0",
      "_view_name": "LayoutView",
      "align_content": null,
      "align_items": null,
      "align_self": null,
      "border": null,
      "bottom": null,
      "display": null,
      "flex": null,
      "flex_flow": null,
      "grid_area": null,
      "grid_auto_columns": null,
      "grid_auto_flow": null,
      "grid_auto_rows": null,
      "grid_column": null,
      "grid_gap": null,
      "grid_row": null,
      "grid_template_areas": null,
      "grid_template_columns": null,
      "grid_template_rows": null,
      "height": null,
      "justify_content": null,
      "justify_items": null,
      "left": null,
      "margin": null,
      "max_height": null,
      "max_width": null,
      "min_height": null,
      "min_width": null,
      "object_fit": null,
      "object_position": null,
      "order": null,
      "overflow": null,
      "overflow_x": null,
      "overflow_y": null,
      "padding": null,
      "right": null,
      "top": null,
      "visibility": null,
      "width": null
     }
    }
   }
  }
 },
 "nbformat": 4,
 "nbformat_minor": 1
}
