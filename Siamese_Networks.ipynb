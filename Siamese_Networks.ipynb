{
 "cells": [
  {
   "cell_type": "markdown",
   "metadata": {
    "id": "P5DMCi3gOW5B"
   },
   "source": [
    "# Fetch data"
   ]
  },
  {
   "cell_type": "code",
   "execution_count": 1,
   "metadata": {
    "colab": {
     "base_uri": "https://localhost:8080/"
    },
    "id": "Dza0LJaYpnIE",
    "outputId": "85621a0f-8630-4f9e-bd53-51de53be5abe"
   },
   "outputs": [
    {
     "name": "stdout",
     "output_type": "stream",
     "text": [
      "Sat Feb 19 20:33:56 2022       \n",
      "+-----------------------------------------------------------------------------+\n",
      "| NVIDIA-SMI 460.32.03    Driver Version: 460.32.03    CUDA Version: 11.2     |\n",
      "|-------------------------------+----------------------+----------------------+\n",
      "| GPU  Name        Persistence-M| Bus-Id        Disp.A | Volatile Uncorr. ECC |\n",
      "| Fan  Temp  Perf  Pwr:Usage/Cap|         Memory-Usage | GPU-Util  Compute M. |\n",
      "|                               |                      |               MIG M. |\n",
      "|===============================+======================+======================|\n",
      "|   0  Tesla T4            Off  | 00000000:00:04.0 Off |                    0 |\n",
      "| N/A   37C    P8     9W /  70W |      0MiB / 15109MiB |      0%      Default |\n",
      "|                               |                      |                  N/A |\n",
      "+-------------------------------+----------------------+----------------------+\n",
      "                                                                               \n",
      "+-----------------------------------------------------------------------------+\n",
      "| Processes:                                                                  |\n",
      "|  GPU   GI   CI        PID   Type   Process name                  GPU Memory |\n",
      "|        ID   ID                                                   Usage      |\n",
      "|=============================================================================|\n",
      "|  No running processes found                                                 |\n",
      "+-----------------------------------------------------------------------------+\n"
     ]
    }
   ],
   "source": [
    "# get GPU info\n",
    "\n",
    "!nvidia-smi"
   ]
  },
  {
   "cell_type": "code",
   "execution_count": 2,
   "metadata": {
    "colab": {
     "base_uri": "https://localhost:8080/"
    },
    "id": "fJKw6zs9nT2X",
    "outputId": "e5ba0134-d76f-418e-906b-700b7694c18c"
   },
   "outputs": [
    {
     "name": "stdout",
     "output_type": "stream",
     "text": [
      "Mounted at /content/drive\n"
     ]
    }
   ],
   "source": [
    "# Mount google drive to colab-session\n",
    "\n",
    "from google.colab import drive\n",
    "drive.mount('/content/drive')"
   ]
  },
  {
   "cell_type": "code",
   "execution_count": 3,
   "metadata": {
    "id": "yIrDM6PqLCUh"
   },
   "outputs": [],
   "source": [
    "# get the dataset from drive\n",
    "\n",
    "!cp \"/content/drive/MyDrive/colab/NLP/quora_question_pair_similarity/data/data.csv\" data.csv"
   ]
  },
  {
   "cell_type": "code",
   "execution_count": 4,
   "metadata": {
    "colab": {
     "base_uri": "https://localhost:8080/"
    },
    "id": "F7h2mKWKeCYi",
    "outputId": "24502424-eea9-4c81-c59d-b2f345305f2b"
   },
   "outputs": [
    {
     "name": "stdout",
     "output_type": "stream",
     "text": [
      "--2022-02-19 20:34:18--  https://s3.amazonaws.com/dl4j-distribution/GoogleNews-vectors-negative300.bin.gz\n",
      "Resolving s3.amazonaws.com (s3.amazonaws.com)... 52.217.70.6\n",
      "Connecting to s3.amazonaws.com (s3.amazonaws.com)|52.217.70.6|:443... connected.\n",
      "HTTP request sent, awaiting response... 200 OK\n",
      "Length: 1647046227 (1.5G) [application/x-gzip]\n",
      "Saving to: ‘/content/GoogleNews-vectors-negative300.bin.gz’\n",
      "\n",
      "GoogleNews-vectors- 100%[===================>]   1.53G  79.4MB/s    in 23s     \n",
      "\n",
      "2022-02-19 20:34:41 (69.2 MB/s) - ‘/content/GoogleNews-vectors-negative300.bin.gz’ saved [1647046227/1647046227]\n",
      "\n"
     ]
    }
   ],
   "source": [
    "# Download word2vec embeddings\n",
    "\n",
    "!wget -P /content/ -c \"https://s3.amazonaws.com/dl4j-distribution/GoogleNews-vectors-negative300.bin.gz\""
   ]
  },
  {
   "cell_type": "markdown",
   "metadata": {
    "id": "_XbMdDeIfezH"
   },
   "source": [
    "# Module Import"
   ]
  },
  {
   "cell_type": "code",
   "execution_count": 5,
   "metadata": {
    "id": "7E3SITr6OPKM"
   },
   "outputs": [],
   "source": [
    "import os, re\n",
    "import pickle\n",
    "import numpy as np\n",
    "import pandas as pd\n",
    "from wordcloud import WordCloud\n",
    "\n",
    "import seaborn as sns\n",
    "import matplotlib.pyplot as plt\n",
    "\n",
    "from tqdm.notebook import tqdm"
   ]
  },
  {
   "cell_type": "code",
   "execution_count": 6,
   "metadata": {
    "id": "lul1htF7-9WQ"
   },
   "outputs": [],
   "source": [
    "import nltk"
   ]
  },
  {
   "cell_type": "code",
   "execution_count": 7,
   "metadata": {
    "colab": {
     "base_uri": "https://localhost:8080/"
    },
    "id": "7nHjBQyv-92Y",
    "outputId": "49f1d8aa-4c09-44ef-f891-d5f70216f138"
   },
   "outputs": [
    {
     "name": "stdout",
     "output_type": "stream",
     "text": [
      "[nltk_data] Downloading package stopwords to /root/nltk_data...\n",
      "[nltk_data]   Unzipping corpora/stopwords.zip.\n",
      "[nltk_data] Downloading package punkt to /root/nltk_data...\n",
      "[nltk_data]   Unzipping tokenizers/punkt.zip.\n",
      "[nltk_data] Downloading package wordnet to /root/nltk_data...\n",
      "[nltk_data]   Unzipping corpora/wordnet.zip.\n"
     ]
    },
    {
     "data": {
      "text/plain": [
       "True"
      ]
     },
     "execution_count": 7,
     "metadata": {},
     "output_type": "execute_result"
    }
   ],
   "source": [
    "nltk.download('stopwords') \n",
    "nltk.download('punkt')\n",
    "nltk.download('wordnet')"
   ]
  },
  {
   "cell_type": "code",
   "execution_count": 8,
   "metadata": {
    "id": "YtmvMTchO02L"
   },
   "outputs": [],
   "source": [
    "from nltk.corpus import stopwords\n",
    "from nltk.tokenize import word_tokenize\n",
    "\n",
    "from nltk.stem import WordNetLemmatizer\n",
    "from nltk.stem.porter import PorterStemmer\n",
    "\n",
    "import gensim"
   ]
  },
  {
   "cell_type": "code",
   "execution_count": 9,
   "metadata": {
    "id": "pSbrSJ8uDSoj"
   },
   "outputs": [],
   "source": [
    "from tensorflow.keras.layers import Input, Dense, Embedding\n",
    "from tensorflow.keras.layers import Bidirectional, LSTM, GRU, RNN, Dropout\n",
    "from tensorflow.keras.layers import BatchNormalization, concatenate\n",
    "\n",
    "from tensorflow.keras.optimizers import Adam\n",
    "\n",
    "from tensorflow.keras.models import Model\n",
    "from tensorflow.keras import backend as K"
   ]
  },
  {
   "cell_type": "markdown",
   "metadata": {
    "id": "jNZPTki6sae4"
   },
   "source": [
    "# Data Analysis"
   ]
  },
  {
   "cell_type": "code",
   "execution_count": 10,
   "metadata": {
    "colab": {
     "base_uri": "https://localhost:8080/"
    },
    "id": "GiWTM2lhsdQS",
    "outputId": "332e5971-4cfe-4647-868f-979ec3bf9f13"
   },
   "outputs": [
    {
     "data": {
      "text/plain": [
       "(404290, 6)"
      ]
     },
     "execution_count": 10,
     "metadata": {},
     "output_type": "execute_result"
    }
   ],
   "source": [
    "# read data file\n",
    "\n",
    "df=pd.read_csv(\"data.csv\")\n",
    "df.shape"
   ]
  },
  {
   "cell_type": "code",
   "execution_count": 11,
   "metadata": {
    "colab": {
     "base_uri": "https://localhost:8080/",
     "height": 722
    },
    "id": "sJLAhURksdTA",
    "outputId": "0d1e2425-a5ec-4a2b-a0f4-e6d44488b598"
   },
   "outputs": [
    {
     "data": {
      "text/html": [
       "\n",
       "  <div id=\"df-c0fa3542-665b-4d39-afc9-1e098bd6e90c\">\n",
       "    <div class=\"colab-df-container\">\n",
       "      <div>\n",
       "<style scoped>\n",
       "    .dataframe tbody tr th:only-of-type {\n",
       "        vertical-align: middle;\n",
       "    }\n",
       "\n",
       "    .dataframe tbody tr th {\n",
       "        vertical-align: top;\n",
       "    }\n",
       "\n",
       "    .dataframe thead th {\n",
       "        text-align: right;\n",
       "    }\n",
       "</style>\n",
       "<table border=\"1\" class=\"dataframe\">\n",
       "  <thead>\n",
       "    <tr style=\"text-align: right;\">\n",
       "      <th></th>\n",
       "      <th>id</th>\n",
       "      <th>qid1</th>\n",
       "      <th>qid2</th>\n",
       "      <th>question1</th>\n",
       "      <th>question2</th>\n",
       "      <th>is_duplicate</th>\n",
       "    </tr>\n",
       "  </thead>\n",
       "  <tbody>\n",
       "    <tr>\n",
       "      <th>0</th>\n",
       "      <td>0</td>\n",
       "      <td>1</td>\n",
       "      <td>2</td>\n",
       "      <td>What is the step by step guide to invest in sh...</td>\n",
       "      <td>What is the step by step guide to invest in sh...</td>\n",
       "      <td>0</td>\n",
       "    </tr>\n",
       "    <tr>\n",
       "      <th>1</th>\n",
       "      <td>1</td>\n",
       "      <td>3</td>\n",
       "      <td>4</td>\n",
       "      <td>What is the story of Kohinoor (Koh-i-Noor) Dia...</td>\n",
       "      <td>What would happen if the Indian government sto...</td>\n",
       "      <td>0</td>\n",
       "    </tr>\n",
       "    <tr>\n",
       "      <th>2</th>\n",
       "      <td>2</td>\n",
       "      <td>5</td>\n",
       "      <td>6</td>\n",
       "      <td>How can I increase the speed of my internet co...</td>\n",
       "      <td>How can Internet speed be increased by hacking...</td>\n",
       "      <td>0</td>\n",
       "    </tr>\n",
       "    <tr>\n",
       "      <th>3</th>\n",
       "      <td>3</td>\n",
       "      <td>7</td>\n",
       "      <td>8</td>\n",
       "      <td>Why am I mentally very lonely? How can I solve...</td>\n",
       "      <td>Find the remainder when [math]23^{24}[/math] i...</td>\n",
       "      <td>0</td>\n",
       "    </tr>\n",
       "    <tr>\n",
       "      <th>4</th>\n",
       "      <td>4</td>\n",
       "      <td>9</td>\n",
       "      <td>10</td>\n",
       "      <td>Which one dissolve in water quikly sugar, salt...</td>\n",
       "      <td>Which fish would survive in salt water?</td>\n",
       "      <td>0</td>\n",
       "    </tr>\n",
       "  </tbody>\n",
       "</table>\n",
       "</div>\n",
       "      <button class=\"colab-df-convert\" onclick=\"convertToInteractive('df-c0fa3542-665b-4d39-afc9-1e098bd6e90c')\"\n",
       "              title=\"Convert this dataframe to an interactive table.\"\n",
       "              style=\"display:none;\">\n",
       "        \n",
       "  <svg xmlns=\"http://www.w3.org/2000/svg\" height=\"24px\"viewBox=\"0 0 24 24\"\n",
       "       width=\"24px\">\n",
       "    <path d=\"M0 0h24v24H0V0z\" fill=\"none\"/>\n",
       "    <path d=\"M18.56 5.44l.94 2.06.94-2.06 2.06-.94-2.06-.94-.94-2.06-.94 2.06-2.06.94zm-11 1L8.5 8.5l.94-2.06 2.06-.94-2.06-.94L8.5 2.5l-.94 2.06-2.06.94zm10 10l.94 2.06.94-2.06 2.06-.94-2.06-.94-.94-2.06-.94 2.06-2.06.94z\"/><path d=\"M17.41 7.96l-1.37-1.37c-.4-.4-.92-.59-1.43-.59-.52 0-1.04.2-1.43.59L10.3 9.45l-7.72 7.72c-.78.78-.78 2.05 0 2.83L4 21.41c.39.39.9.59 1.41.59.51 0 1.02-.2 1.41-.59l7.78-7.78 2.81-2.81c.8-.78.8-2.07 0-2.86zM5.41 20L4 18.59l7.72-7.72 1.47 1.35L5.41 20z\"/>\n",
       "  </svg>\n",
       "      </button>\n",
       "      \n",
       "  <style>\n",
       "    .colab-df-container {\n",
       "      display:flex;\n",
       "      flex-wrap:wrap;\n",
       "      gap: 12px;\n",
       "    }\n",
       "\n",
       "    .colab-df-convert {\n",
       "      background-color: #E8F0FE;\n",
       "      border: none;\n",
       "      border-radius: 50%;\n",
       "      cursor: pointer;\n",
       "      display: none;\n",
       "      fill: #1967D2;\n",
       "      height: 32px;\n",
       "      padding: 0 0 0 0;\n",
       "      width: 32px;\n",
       "    }\n",
       "\n",
       "    .colab-df-convert:hover {\n",
       "      background-color: #E2EBFA;\n",
       "      box-shadow: 0px 1px 2px rgba(60, 64, 67, 0.3), 0px 1px 3px 1px rgba(60, 64, 67, 0.15);\n",
       "      fill: #174EA6;\n",
       "    }\n",
       "\n",
       "    [theme=dark] .colab-df-convert {\n",
       "      background-color: #3B4455;\n",
       "      fill: #D2E3FC;\n",
       "    }\n",
       "\n",
       "    [theme=dark] .colab-df-convert:hover {\n",
       "      background-color: #434B5C;\n",
       "      box-shadow: 0px 1px 3px 1px rgba(0, 0, 0, 0.15);\n",
       "      filter: drop-shadow(0px 1px 2px rgba(0, 0, 0, 0.3));\n",
       "      fill: #FFFFFF;\n",
       "    }\n",
       "  </style>\n",
       "\n",
       "      <script>\n",
       "        const buttonEl =\n",
       "          document.querySelector('#df-c0fa3542-665b-4d39-afc9-1e098bd6e90c button.colab-df-convert');\n",
       "        buttonEl.style.display =\n",
       "          google.colab.kernel.accessAllowed ? 'block' : 'none';\n",
       "\n",
       "        async function convertToInteractive(key) {\n",
       "          const element = document.querySelector('#df-c0fa3542-665b-4d39-afc9-1e098bd6e90c');\n",
       "          const dataTable =\n",
       "            await google.colab.kernel.invokeFunction('convertToInteractive',\n",
       "                                                     [key], {});\n",
       "          if (!dataTable) return;\n",
       "\n",
       "          const docLinkHtml = 'Like what you see? Visit the ' +\n",
       "            '<a target=\"_blank\" href=https://colab.research.google.com/notebooks/data_table.ipynb>data table notebook</a>'\n",
       "            + ' to learn more about interactive tables.';\n",
       "          element.innerHTML = '';\n",
       "          dataTable['output_type'] = 'display_data';\n",
       "          await google.colab.output.renderOutput(dataTable, element);\n",
       "          const docLink = document.createElement('div');\n",
       "          docLink.innerHTML = docLinkHtml;\n",
       "          element.appendChild(docLink);\n",
       "        }\n",
       "      </script>\n",
       "    </div>\n",
       "  </div>\n",
       "  "
      ],
      "text/plain": [
       "   id  qid1  ...                                          question2 is_duplicate\n",
       "0   0     1  ...  What is the step by step guide to invest in sh...            0\n",
       "1   1     3  ...  What would happen if the Indian government sto...            0\n",
       "2   2     5  ...  How can Internet speed be increased by hacking...            0\n",
       "3   3     7  ...  Find the remainder when [math]23^{24}[/math] i...            0\n",
       "4   4     9  ...            Which fish would survive in salt water?            0\n",
       "\n",
       "[5 rows x 6 columns]"
      ]
     },
     "execution_count": 11,
     "metadata": {},
     "output_type": "execute_result"
    }
   ],
   "source": [
    "df.head()"
   ]
  },
  {
   "cell_type": "code",
   "execution_count": 12,
   "metadata": {
    "colab": {
     "base_uri": "https://localhost:8080/"
    },
    "id": "TT3iFXOJ5Pwn",
    "outputId": "59f45eab-48d2-4333-8fde-976b31d454be"
   },
   "outputs": [
    {
     "name": "stdout",
     "output_type": "stream",
     "text": [
      "Total question pairs:\t 404290\n",
      "Total unique questions:\t 537360\n"
     ]
    }
   ],
   "source": [
    "def questions_freq_analyze(df):\n",
    "  total_pairs=df.shape[0]\n",
    "\n",
    "  q1=df[\"question1\"]\n",
    "  q2=df[\"question2\"]\n",
    "  questions=q1.append(q2).dropna()\n",
    "\n",
    "  uni_ques=np.unique(questions)\n",
    "\n",
    "  print(\"Total question pairs:\\t\", total_pairs)\n",
    "  print(\"Total unique questions:\\t\", len(uni_ques))\n",
    "\n",
    "\n",
    "questions_freq_analyze(df)"
   ]
  },
  {
   "cell_type": "code",
   "execution_count": 13,
   "metadata": {
    "colab": {
     "base_uri": "https://localhost:8080/",
     "height": 89
    },
    "id": "ELtn2L-ksdVY",
    "outputId": "16959a17-66ca-4894-fce4-4c8b9b54f728"
   },
   "outputs": [
    {
     "name": "stderr",
     "output_type": "stream",
     "text": [
      "/usr/local/lib/python3.7/dist-packages/seaborn/_decorators.py:43: FutureWarning: Pass the following variables as keyword args: x, y. From version 0.12, the only valid positional argument will be `data`, and passing other arguments without an explicit keyword will result in an error or misinterpretation.\n",
      "  FutureWarning\n"
     ]
    },
    {
     "data": {
      "image/png": "[encoded data removed]",
      "text/plain": [
       "<Figure size 1080x360 with 2 Axes>"
      ]
     },
     "metadata": {
      "needs_background": "light"
     },
     "output_type": "display_data"
    }
   ],
   "source": [
    "# output distribution (whether pair similar or not)\n",
    "# 1-non duplicate questions; 0-duplicate\n",
    "\n",
    "out=df[\"is_duplicate\"]\n",
    "duplicate, freq=np.unique(out, return_counts=True)\n",
    "\n",
    "_,ax=plt.subplots(1,2, figsize=(15,5))\n",
    "ax=ax.ravel()\n",
    "\n",
    "sns.barplot(duplicate, freq, ax=ax[0])\n",
    "\n",
    "ax[1].pie(freq, labels=duplicate, autopct='%1.1f%%' )\n",
    "plt.show()"
   ]
  },
  {
   "cell_type": "code",
   "execution_count": 14,
   "metadata": {
    "colab": {
     "base_uri": "https://localhost:8080/",
     "height": 54
    },
    "id": "N14sg5hastky",
    "outputId": "0707c7d4-1a9f-4a7f-87fb-a25d0663d928"
   },
   "outputs": [
    {
     "data": {
      "image/png": "[encoded data removed]",
      "text/plain": [
       "<Figure size 1080x504 with 1 Axes>"
      ]
     },
     "metadata": {
      "needs_background": "light"
     },
     "output_type": "display_data"
    }
   ],
   "source": [
    "# display frequent words fo both 0/1 cases in text data\n",
    "\n",
    "def visualize_wordcloud(df, title):\n",
    "  q1=df[\"question1\"]\n",
    "  q2=df[\"question2\"]\n",
    "  data=q1.append(q2).dropna()\n",
    "  data =\" \".join([text.strip() for text in data ] )\n",
    "\n",
    "  stopword_ll = set(stopwords.words(\"english\"))\n",
    "\n",
    "  plt.figure(figsize=(15,7))\n",
    "  wc = WordCloud(width=1200, height=800, max_words=200, stopwords=stopword_ll, colormap=\"Dark2\").generate(data)\n",
    "  plt.imshow(wc, interpolation='bilinear')\n",
    "  plt.axis(\"off\")\n",
    "  plt.title(title)\n",
    "  plt.show() \n",
    "\n",
    "\n",
    "visualize_wordcloud(df, \"Frequent Questions Words\")"
   ]
  },
  {
   "cell_type": "code",
   "execution_count": 15,
   "metadata": {
    "colab": {
     "base_uri": "https://localhost:8080/",
     "height": 54
    },
    "id": "Lpcj1AHQ74Sc",
    "outputId": "f4cfa9e4-e961-48c9-9f04-658f1f1e9c23"
   },
   "outputs": [
    {
     "data": {
      "image/png": "[encoded data removed]",
      "text/plain": [
       "<Figure size 720x360 with 1 Axes>"
      ]
     },
     "metadata": {
      "needs_background": "light"
     },
     "output_type": "display_data"
    }
   ],
   "source": [
    "# length of each question in no of words\n",
    "\n",
    "def questions_text_length(df):\n",
    "  total_pairs=df.shape[0]\n",
    "\n",
    "  q1=df[\"question1\"]\n",
    "  q2=df[\"question2\"]\n",
    "  questions=q1.append(q2).dropna()\n",
    "\n",
    "  L=[]\n",
    "  for qs in questions:\n",
    "    n=len(qs.strip().split())\n",
    "    L.append(n)\n",
    "\n",
    "  plt.figure(figsize=(10,5))\n",
    "  plt.title(\"Questions length\")\n",
    "  sns.histplot(L); plt.show()\n",
    "\n",
    "\n",
    "questions_text_length(df)"
   ]
  },
  {
   "cell_type": "markdown",
   "metadata": {
    "id": "Frnqpo4i4VAy"
   },
   "source": [
    "# Data Preparation"
   ]
  },
  {
   "cell_type": "markdown",
   "metadata": {
    "id": "pyBbD5PGG1vq"
   },
   "source": [
    "## prepare corpus"
   ]
  },
  {
   "cell_type": "code",
   "execution_count": 16,
   "metadata": {
    "id": "OlFqST1fkWl2"
   },
   "outputs": [],
   "source": [
    "# processing text to cleaned data\n",
    "\n",
    "def clean_text(text_orig):\n",
    "  text2=text_orig.lower()\n",
    "\n",
    "  text2=re.sub(\"[!:;&=\\?\\[\\]\\^\\|\\\\,`~{}_/\\(\\)\\\"]\", \" \", text2)  # \"text:\" -> \"text\"\n",
    "  text2=re.sub(\"#[a-zA-Z]*[0-9]+[a-zA-Z]*\", \" \", text2)         # #1256 -> \"\"\n",
    "  text2=re.sub(\"[a-zA-Z0-9]*@[a-zA-Z0-9]*\", \" \", text2)         # acc@mail.com -> \"\" ; (mail id)\n",
    "  text2=re.sub(\"[a-zA-Z0-9]*\\+[a-zA-Z0-9]*\", \" \", text2)        # #1256 -> \"\"\n",
    "  text2=re.sub(\"<[ ]*/?[ ]*[a-zA-Z]*[ ]*/?[ ]*>\", \" \", text2)   # <br/> -> \"\"\n",
    "  text2=re.sub(\"[<>]\", \" \", text2)                              # \"<<abc>>\" -> \"text\"\n",
    "  text2=re.sub(\"\\*\", \" \", text2)                                # \"beta***\" -> \"beta\"\n",
    "  text2=re.sub(\"#\", \"\", text2)                                  # \"sh#\" -> \"sh\"\n",
    "  text2=re.sub(\"\\-\", \"\", text2)                                 # \"un-clear\" -> \"unclear\"\n",
    "  text2=re.sub(\"\\.\", \"\", text2)                                 # \"Dr.\"\" -> \"Dr\"\n",
    "  text2=text2.replace(\"\\\\\", \" \")                                # \"\\x01\"\" -> \"x01\"\n",
    "\n",
    "  text2=re.sub(\"\\$[0-9]+[a-zA-Z]*\", \" \", text2)                 # $1256 -> \"\"   ; (money)\n",
    "  text2=re.sub(\"\\$\", \" \", text2)                                # \"$\" -> \"\"\n",
    "\n",
    "  text2=re.sub(\"[0-9]*%\", \" \", text2)                           # 85% -> \"\"   ; \n",
    "  text2=re.sub(\"%\", \" \", text2)                                 # \"%\" -> \"\"\n",
    "\n",
    "  text2=re.sub(\"n't\", \" not\", text2)                            # wasn't -> was not\n",
    "  text2=re.sub(\"'t\", \" not\", text2)                             # have't -> spell mistake\n",
    "  text2=re.sub(\"'[ ]*am( |$)\", \" \", text2)                      # 'am ' am -> \"\"\n",
    "  text2=re.sub(\"'[a-zA-Z0-9]([ ]+|$)\", \" \", text2)              # '[a-zA-Z] -> 0 ; ('s)\n",
    "  text2=re.sub(\"'[a-zA-Z0-9][a-zA-Z0-9]([ ]+|$)\", \" \", text2)   # '[a-zA-Z][a-zA-Z] -> 0 ; ('ve)\n",
    "  text2=re.sub(\"'\", \" \", text2)                                 # \"beta'''\" -> \"beta\"\n",
    "\n",
    "  text2=re.sub(r'[^\\x00-\\x7F]+',' ', text2)                     # remove non-ascii characters\n",
    "  text2=re.sub(r'[^\\w ]', '', text2)                            # remove non-words ; \\x01 \\x08\n",
    "\n",
    "  text2=re.sub(r\"(^[a-zA-Z] )|( [a-zA-Z]$)|(\\b[a-zA-Z]\\b)\", \" \", text2)       # I -> \"\"   \n",
    "  text2=re.sub(\"([ ]*|^)[0-9]+([ ]*|^)\", \" \", text2)            # 5845 -> \"\"   \n",
    "\n",
    "  text2=text2.strip()\n",
    "\n",
    "  return text2\n",
    "\n",
    "\n",
    "# split line text into tokens\n",
    "\n",
    "def tokenise_text(text):\n",
    "  return word_tokenize(text)\n"
   ]
  },
  {
   "cell_type": "code",
   "execution_count": 17,
   "metadata": {
    "id": "_kro1BtyRgTU"
   },
   "outputs": [],
   "source": [
    "# complete line text pre-processing\n",
    "\n",
    "def preprocess_text(text):\n",
    "  text=clean_text(text)\n",
    "  text=tokenise_text(text)\n",
    "  text=' '.join(text)\n",
    "\n",
    "  return text\n"
   ]
  },
  {
   "cell_type": "code",
   "execution_count": 18,
   "metadata": {
    "id": "Qcm-trvE-1Jr"
   },
   "outputs": [],
   "source": [
    "# return pre-processed dataframe from raw dataframe\n",
    "\n",
    "def preprocess_corpus(df_orig):\n",
    "  df=df_orig.copy()\n",
    "\n",
    "  Q1=[]\n",
    "  Q2=[]\n",
    "  Y=[]\n",
    "\n",
    "  for _, row in tqdm(df.iterrows()):   \n",
    "    try:\n",
    "      q1=row['question1']\n",
    "      q2=row['question2']\n",
    "      duplicate=row['is_duplicate']\n",
    "\n",
    "      q1_preprocess=preprocess_text(q1)\n",
    "      q2_preprocess=preprocess_text(q2)\n",
    "\n",
    "      Q1.append(q1_preprocess)\n",
    "      Q2.append(q2_preprocess)\n",
    "      Y.append(duplicate)\n",
    "\n",
    "    except:\n",
    "      pass\n",
    "\n",
    "  df_preprocessed=pd.DataFrame( {\"question1\":Q1, \"question2\":Q2, \"is_duplicate\":Y  } )\n",
    "\n",
    "  del Q1, Q2, Y\n",
    "\n",
    "  return df_preprocessed\n"
   ]
  },
  {
   "cell_type": "code",
   "execution_count": 19,
   "metadata": {
    "colab": {
     "base_uri": "https://localhost:8080/",
     "height": 125,
     "referenced_widgets": [
      "abdbb4777b5b4f03b85db6f4f5f4d202",
      "9d730d77358344ba9cb85cc8445faa4e",
      "0096000ae8044c97bef4a7c5fe5e8bab",
      "d7085abc27bf425b8fe42406d4d40f40",
      "768704607bab4145bbcdc34b64deac54",
      "10a7e89795b0407b9752547c573e4459",
      "e7550a635b51409a84be84d4a87a2c79",
      "f6ef5a4e264641d2a12cb75965a2da14",
      "b7b396d9186446e4b3dba7fa340478de",
      "165b5d735faf4c5cae34614d840c6af2",
      "b4a60dcbae94470a9d5b4f2482a5fa99"
     ]
    },
    "id": "4XZiTlUEBdJK",
    "outputId": "2d34ec71-5ea2-4f67-de6e-eb0b326febb3"
   },
   "outputs": [
    {
     "data": {
      "application/vnd.jupyter.widget-view+json": {
       "model_id": "abdbb4777b5b4f03b85db6f4f5f4d202",
       "version_major": 2,
       "version_minor": 0
      },
      "text/plain": [
       "0it [00:00, ?it/s]"
      ]
     },
     "metadata": {},
     "output_type": "display_data"
    }
   ],
   "source": [
    "df_processed=preprocess_corpus(df)"
   ]
  },
  {
   "cell_type": "markdown",
   "metadata": {
    "id": "ydfEWhooG4ew"
   },
   "source": [
    "## vectorization"
   ]
  },
  {
   "cell_type": "code",
   "execution_count": 20,
   "metadata": {
    "id": "yndq_ddbHNA8"
   },
   "outputs": [],
   "source": [
    "# function to create word to index map and vice versa.\n",
    "# the corpus here is the preprocessed dataframe\n",
    "\n",
    "def create_corpus_word_index_map(df):\n",
    "  question=df[\"question1\"]\n",
    "  question=question.append( df[\"question2\"] )\n",
    "\n",
    "  word_ll=set()\n",
    "  word_2_index={}\n",
    "  index_2_word={}\n",
    "\n",
    "  for _,line in tqdm(question.items()):\n",
    "    w_ll=word_tokenize(line)\n",
    "    for word in w_ll:\n",
    "      word_ll.add(word)\n",
    "\n",
    "  for index,word in enumerate(word_ll):\n",
    "    word_2_index[word]=index\n",
    "    index_2_word[index]=word\n",
    "\n",
    "  return word_2_index, index_2_word\n"
   ]
  },
  {
   "cell_type": "code",
   "execution_count": 21,
   "metadata": {
    "colab": {
     "base_uri": "https://localhost:8080/",
     "height": 125,
     "referenced_widgets": [
      "56c76d4f770844dba1c7825031f5017f",
      "6f1ed587106f4a99ad6c65d87df56e28",
      "58b613388cb54b5e8a9b4378ef7f0524",
      "a68655d49cac405f8348fcc9eb2eb7d1",
      "611d21e176d64d77923390e1dd16d328",
      "a5c50005f29344ee94c966e6c238f8fd",
      "e084270d11a9458e93f5af94274cd4ff",
      "0154abd5cd264ff19a5edb95688f9397",
      "eecc3ddd85bd4c5eb46afc479531eed3",
      "34808df4785e45b39cc78e2a81056a0a",
      "4d1454102fe44b5caf2f72cd9e1e84da"
     ]
    },
    "id": "gTaJI3xNKUte",
    "outputId": "63d5431f-0024-4e68-b34d-bdfe3c91998d"
   },
   "outputs": [
    {
     "data": {
      "application/vnd.jupyter.widget-view+json": {
       "model_id": "56c76d4f770844dba1c7825031f5017f",
       "version_major": 2,
       "version_minor": 0
      },
      "text/plain": [
       "0it [00:00, ?it/s]"
      ]
     },
     "metadata": {},
     "output_type": "display_data"
    }
   ],
   "source": [
    "word_2_index, index_2_word = create_corpus_word_index_map(df_processed)"
   ]
  },
  {
   "cell_type": "code",
   "execution_count": 22,
   "metadata": {
    "id": "efCy2rd4Oq8R"
   },
   "outputs": [],
   "source": [
    "# get word2vec embedding for each word in corpus\n",
    "\n",
    "def get_word_embedding(embed_model_file, embedding_dim, word_2_index):\n",
    "  word_2_vec_model = gensim.models.KeyedVectors.load_word2vec_format(embed_model_file, binary = True)\n",
    "\n",
    "  word_ll=word_2_vec_model.wv.index2word\n",
    "  vec_ll=word_2_vec_model.wv.syn0\n",
    "\n",
    "  pretrained_model_map={}\n",
    "  for word,embed_value in tqdm(zip(word_ll, vec_ll)):\n",
    "    pretrained_model_map[word]=embed_value\n",
    "\n",
    "  embeddings = np.random.randn( len(word_2_index), embedding_dim).astype('float32')\n",
    "\n",
    "  for word, index in tqdm(word_2_index.items()):\n",
    "    if word in pretrained_model_map:\n",
    "      embeddings[index]=pretrained_model_map[word]\n",
    "\n",
    "  del pretrained_model_map\n",
    "\n",
    "  return embeddings\n"
   ]
  },
  {
   "cell_type": "code",
   "execution_count": 23,
   "metadata": {
    "colab": {
     "base_uri": "https://localhost:8080/",
     "height": 317,
     "referenced_widgets": [
      "d9136b4e29f547aebe29757f47c3520e",
      "163ba68acdcb4d38999418e8d1683542",
      "f694ab46807d47d08332b1ea1e022790",
      "d7099e7b71f145f685e1a038202711d9",
      "e9a4cad33b84491fb16461919e27f746",
      "6dbcf22a76924c34b21827bc09a988ab",
      "93ee1abc0e0f4bddaa2acd076841468d",
      "80fd9d6649c54790bf109bf36d4fae5a",
      "a449e1db83664aa9bb56f453f5c7612f",
      "caf70a70c3f449acb140c4131e0f169e",
      "4dfa59039e844222916186985f5751ec",
      "8cdc0e4a49e84643ba0a7645aec13dc7",
      "f49f1d45a2254e0ebea3f3eaff177172",
      "92b4285bbbbf43b6abed5fd9bceeda0f",
      "5f19e166528744ad875af365b116bc1d",
      "6e5e331a8b234847aa73e1580cb95984",
      "60ef9856fc45442a8ffa48bddfb4c696",
      "ddd11ac8ce3e4723b3be542620a1ba5a",
      "16ecfc7743e94467b437bb9a493580a6",
      "de1e1beb91f745078fcf66d20bd1233e",
      "0a4ac8830d324432b8f4410480e2ddad",
      "add4c412c4be40ebbfd58400eff15e5e"
     ]
    },
    "id": "sg_VNZHCOq_X",
    "outputId": "3e66dd9c-38cb-4a9e-acd7-84d7aa6c3c59"
   },
   "outputs": [
    {
     "name": "stderr",
     "output_type": "stream",
     "text": [
      "/usr/local/lib/python3.7/dist-packages/ipykernel_launcher.py:6: DeprecationWarning: Call to deprecated `wv` (Attribute will be removed in 4.0.0, use self instead).\n",
      "  \n",
      "/usr/local/lib/python3.7/dist-packages/ipykernel_launcher.py:7: DeprecationWarning: Call to deprecated `wv` (Attribute will be removed in 4.0.0, use self instead).\n",
      "  import sys\n",
      "/usr/local/lib/python3.7/dist-packages/ipykernel_launcher.py:7: DeprecationWarning: Call to deprecated `syn0` (Attribute will be removed in 4.0.0, use self.wv.vectors instead).\n",
      "  import sys\n"
     ]
    },
    {
     "data": {
      "application/vnd.jupyter.widget-view+json": {
       "model_id": "d9136b4e29f547aebe29757f47c3520e",
       "version_major": 2,
       "version_minor": 0
      },
      "text/plain": [
       "0it [00:00, ?it/s]"
      ]
     },
     "metadata": {},
     "output_type": "display_data"
    },
    {
     "data": {
      "application/vnd.jupyter.widget-view+json": {
       "model_id": "8cdc0e4a49e84643ba0a7645aec13dc7",
       "version_major": 2,
       "version_minor": 0
      },
      "text/plain": [
       "  0%|          | 0/87322 [00:00<?, ?it/s]"
      ]
     },
     "metadata": {},
     "output_type": "display_data"
    }
   ],
   "source": [
    "embedding_dim=300\n",
    "embed_model_file=\"/content/GoogleNews-vectors-negative300.bin.gz\"\n",
    "\n",
    "embeddings = get_word_embedding(embed_model_file, embedding_dim, word_2_index)"
   ]
  },
  {
   "cell_type": "code",
   "execution_count": 24,
   "metadata": {
    "id": "RQxx2os5-EWG"
   },
   "outputs": [],
   "source": [
    "# create final processed data for model\n",
    "\n",
    "def prepare_data(df, word_length, word_2_index):\n",
    "  N=df.shape[0]\n",
    "  X1=np.zeros( (N, word_length ), dtype=int)\n",
    "  X2=np.zeros( (N, word_length ), dtype=int)\n",
    "  Y=df[\"is_duplicate\"].to_numpy()\n",
    "\n",
    "  for index, row in tqdm(df.iterrows()):\n",
    "    line1=row[\"question1\"]\n",
    "    line2=row[\"question2\"]\n",
    "\n",
    "    i=0\n",
    "    vec=np.zeros(word_length, dtype=int)\n",
    "    for word in word_tokenize(line1):\n",
    "      if word in word_2_index:\n",
    "        ind=word_2_index[word]\n",
    "        vec[i]=ind\n",
    "        i+=1\n",
    "        if i>=word_length:\n",
    "          break           \n",
    "    X1[index,:]=vec\n",
    "\n",
    "    i=0\n",
    "    vec=np.zeros(word_length, dtype=int)\n",
    "    for word in word_tokenize(line2):\n",
    "      if word in word_2_index:\n",
    "        ind=word_2_index[word]\n",
    "        vec[i]=ind\n",
    "        i+=1\n",
    "        if i>=word_length:\n",
    "          break          \n",
    "    X2[index,:]=vec\n",
    "\n",
    "  return (X1, X2, Y)\n"
   ]
  },
  {
   "cell_type": "code",
   "execution_count": 25,
   "metadata": {
    "colab": {
     "base_uri": "https://localhost:8080/",
     "height": 125,
     "referenced_widgets": [
      "81012f1d67db497c9b8c66ccf0994e4e",
      "21b0d8f4873b437c9dc289a3e3898afb",
      "acfdd676cfec49e0bf3f02c0283251b3",
      "f5b2c0f5ee7f41fc9564641233652a85",
      "df72b942b3c0457da7eff3c62eb1367c",
      "0768ac7e1a264c17bfb7664dd319946e",
      "64ff932914a94633a80d4322204703ec",
      "719346d2cfde447d924e30c469b4c52d",
      "b2018d6fec0b43a0baa70c3ee4428f11",
      "8326e49bc7a44242a0a88eed729c4e9d",
      "473aeceb320d42f9bfbd23a13d18bea1"
     ]
    },
    "id": "AiYaj-B0BkvH",
    "outputId": "943a2d3e-2867-422e-d9da-d776edb1a554"
   },
   "outputs": [
    {
     "data": {
      "application/vnd.jupyter.widget-view+json": {
       "model_id": "81012f1d67db497c9b8c66ccf0994e4e",
       "version_major": 2,
       "version_minor": 0
      },
      "text/plain": [
       "0it [00:00, ?it/s]"
      ]
     },
     "metadata": {},
     "output_type": "display_data"
    }
   ],
   "source": [
    "word_length=40\n",
    "\n",
    "X1, X2, Y1=prepare_data(df_processed, word_length, word_2_index)"
   ]
  },
  {
   "cell_type": "markdown",
   "metadata": {
    "id": "oGy1_ixp207k"
   },
   "source": [
    "## train-test split"
   ]
  },
  {
   "cell_type": "code",
   "execution_count": 26,
   "metadata": {
    "id": "8pbORjHN1bJD"
   },
   "outputs": [],
   "source": [
    "# train-test split\n",
    "\n",
    "N=X1.shape[0]\n",
    "N2=int(N*0.80)\n",
    "\n",
    "X1_train=X1[:N2]\n",
    "X2_train=X2[:N2]\n",
    "Y1_train=Y1[:N2]\n",
    "\n",
    "X1_test=X1[N2:]\n",
    "X2_test=X2[N2:]\n",
    "Y1_test=Y1[N2:]"
   ]
  },
  {
   "cell_type": "code",
   "execution_count": 27,
   "metadata": {
    "colab": {
     "base_uri": "https://localhost:8080/"
    },
    "id": "n5RyA1oP1bL-",
    "outputId": "457d3bbf-e6c8-4162-9701-a61f34d30358"
   },
   "outputs": [
    {
     "data": {
      "text/plain": [
       "((323429, 40), (323429, 40), (323429,), (80858, 40), (80858, 40), (80858,))"
      ]
     },
     "execution_count": 27,
     "metadata": {},
     "output_type": "execute_result"
    }
   ],
   "source": [
    "X1_train.shape, X2_train.shape, Y1_train.shape, X1_test.shape, X2_test.shape, Y1_test.shape"
   ]
  },
  {
   "cell_type": "markdown",
   "metadata": {
    "id": "XIH2oCIS1Vgd"
   },
   "source": [
    "# Model"
   ]
  },
  {
   "cell_type": "code",
   "execution_count": 40,
   "metadata": {
    "id": "ydd8yUXLaZsh"
   },
   "outputs": [],
   "source": [
    "def base_model(word_length, embeddings):\n",
    "  vocabulary_size, embedding_dim = embeddings.shape\n",
    "\n",
    "  inp=Input(word_length,)\n",
    "  x=inp\n",
    "  x=Embedding(input_dim=vocabulary_size, output_dim=embedding_dim, \n",
    "              weights=[embeddings], input_length=word_length, trainable=False)(x)\n",
    "  \n",
    "  # x=Bidirectional( LSTM(word_length, return_sequences=True) )(x)\n",
    "  # x=BatchNormalization()(x)\n",
    "  \n",
    "  x=Bidirectional( GRU(word_length, return_sequences=False) )(x)\n",
    "\n",
    "  model=Model(inp, x)\n",
    "  return model\n",
    "\n",
    "\n",
    "def siamese_model(word_length, embeddings):\n",
    "  core_model=base_model(word_length, embeddings)\n",
    "\n",
    "  inp1=Input(word_length, )\n",
    "  inp2=Input(word_length, )  \n",
    "\n",
    "  vec1=core_model(inp1)\n",
    "  vec2=core_model(inp2)  \n",
    "\n",
    "  vec=concatenate( [vec1, vec2] )\n",
    "\n",
    "  x=Dense(1, activation=\"sigmoid\")(vec)\n",
    "\n",
    "  model= Model([inp1, inp2], x)\n",
    "  return model\n"
   ]
  },
  {
   "cell_type": "code",
   "execution_count": 41,
   "metadata": {
    "colab": {
     "base_uri": "https://localhost:8080/"
    },
    "id": "K-p_d-IUaZvU",
    "outputId": "0a23b18a-48c9-4f21-9654-57d578559d5d"
   },
   "outputs": [
    {
     "name": "stdout",
     "output_type": "stream",
     "text": [
      "Model: \"model_1\"\n",
      "__________________________________________________________________________________________________\n",
      " Layer (type)                   Output Shape         Param #     Connected to                     \n",
      "==================================================================================================\n",
      " input_2 (InputLayer)           [(None, 40)]         0           []                               \n",
      "                                                                                                  \n",
      " input_3 (InputLayer)           [(None, 40)]         0           []                               \n",
      "                                                                                                  \n",
      " model (Functional)             (None, 80)           26278680    ['input_2[0][0]',                \n",
      "                                                                  'input_3[0][0]']                \n",
      "                                                                                                  \n",
      " concatenate (Concatenate)      (None, 160)          0           ['model[0][0]',                  \n",
      "                                                                  'model[1][0]']                  \n",
      "                                                                                                  \n",
      " dense (Dense)                  (None, 1)            161         ['concatenate[0][0]']            \n",
      "                                                                                                  \n",
      "==================================================================================================\n",
      "Total params: 26,278,841\n",
      "Trainable params: 82,241\n",
      "Non-trainable params: 26,196,600\n",
      "__________________________________________________________________________________________________\n"
     ]
    }
   ],
   "source": [
    "K.clear_session()\n",
    "model=siamese_model(word_length, embeddings)\n",
    "model.summary()"
   ]
  },
  {
   "cell_type": "markdown",
   "metadata": {
    "id": "0FPo8pJz7PYn"
   },
   "source": [
    "# Train"
   ]
  },
  {
   "cell_type": "code",
   "execution_count": 42,
   "metadata": {
    "id": "hMNieygD8IQv"
   },
   "outputs": [],
   "source": [
    "loss=\"binary_crossentropy\"\n",
    "\n",
    "model.compile(optimizer=Adam(learning_rate=1E-3), loss=loss, metrics=[\"accuracy\"])"
   ]
  },
  {
   "cell_type": "code",
   "execution_count": 43,
   "metadata": {
    "colab": {
     "base_uri": "https://localhost:8080/"
    },
    "id": "BDVPKKyRaZyo",
    "outputId": "bbc48214-9188-48b9-9d14-5d19851703e0"
   },
   "outputs": [
    {
     "name": "stdout",
     "output_type": "stream",
     "text": [
      "Epoch 1/10\n",
      "1264/1264 [==============================] - 30s 18ms/step - loss: 0.5683 - accuracy: 0.7080 - val_loss: 0.5622 - val_accuracy: 0.7081\n",
      "Epoch 2/10\n",
      "1264/1264 [==============================] - 22s 17ms/step - loss: 0.5291 - accuracy: 0.7375 - val_loss: 0.5161 - val_accuracy: 0.7481\n",
      "Epoch 3/10\n",
      "1264/1264 [==============================] - 22s 17ms/step - loss: 0.5071 - accuracy: 0.7512 - val_loss: 0.5097 - val_accuracy: 0.7522\n",
      "Epoch 4/10\n",
      "1264/1264 [==============================] - 22s 17ms/step - loss: 0.4907 - accuracy: 0.7620 - val_loss: 0.5109 - val_accuracy: 0.7538\n",
      "Epoch 5/10\n",
      "1264/1264 [==============================] - 22s 17ms/step - loss: 0.4761 - accuracy: 0.7708 - val_loss: 0.4985 - val_accuracy: 0.7604\n",
      "Epoch 6/10\n",
      "1264/1264 [==============================] - 22s 17ms/step - loss: 0.4638 - accuracy: 0.7779 - val_loss: 0.5021 - val_accuracy: 0.7582\n",
      "Epoch 7/10\n",
      "1264/1264 [==============================] - 22s 17ms/step - loss: 0.4524 - accuracy: 0.7842 - val_loss: 0.4951 - val_accuracy: 0.7655\n",
      "Epoch 8/10\n",
      "1264/1264 [==============================] - 22s 17ms/step - loss: 0.4419 - accuracy: 0.7910 - val_loss: 0.4974 - val_accuracy: 0.7659\n",
      "Epoch 9/10\n",
      "1264/1264 [==============================] - 22s 17ms/step - loss: 0.4320 - accuracy: 0.7965 - val_loss: 0.4977 - val_accuracy: 0.7658\n",
      "Epoch 10/10\n",
      "1264/1264 [==============================] - 22s 17ms/step - loss: 0.4231 - accuracy: 0.8022 - val_loss: 0.5007 - val_accuracy: 0.7656\n"
     ]
    }
   ],
   "source": [
    "epochs=10\n",
    "batch=256\n",
    "\n",
    "history=model.fit([X1_train, X2_train], \n",
    "          Y1_train,\n",
    "          epochs=epochs,\n",
    "          validation_data=( [X1_test, X2_test], Y1_test),\n",
    "          batch_size=batch)"
   ]
  },
  {
   "cell_type": "code",
   "execution_count": 47,
   "metadata": {
    "colab": {
     "base_uri": "https://localhost:8080/",
     "height": 336
    },
    "id": "d-sbiecBQtSj",
    "outputId": "8b1e851f-5ee9-4720-dbde-b8dfabe2c9be"
   },
   "outputs": [
    {
     "data": {
      "image/png": "[encoded data removed]",
      "text/plain": [
       "<Figure size 1080x360 with 2 Axes>"
      ]
     },
     "metadata": {
      "needs_background": "light"
     },
     "output_type": "display_data"
    }
   ],
   "source": [
    "loss=history.history[\"loss\"]\n",
    "acc=history.history[\"accuracy\"]\n",
    "val_loss=history.history[\"val_loss\"]\n",
    "val_acc=history.history[\"val_accuracy\"]\n",
    "\n",
    "_, ax=plt.subplots(1,2,figsize=(15,5))\n",
    "ax=ax.ravel()\n",
    "\n",
    "ax[0].set_title(\"loss\")\n",
    "ax[0].plot(loss, \"-bo\")\n",
    "ax[0].plot(val_loss, \"-ro\")\n",
    "ax[0].legend([\"train\", \"test\"])\n",
    "\n",
    "ax[1].set_title(\"accuracy\")\n",
    "ax[1].plot(acc, \"-bo\")\n",
    "ax[1].plot(val_acc, \"-ro\")\n",
    "ax[1].legend([\"train\", \"test\"])\n",
    "\n",
    "plt.show()"
   ]
  },
  {
   "cell_type": "markdown",
   "metadata": {
    "id": "rcpWwDCnyob5"
   },
   "source": [
    "# Evaluate"
   ]
  },
  {
   "cell_type": "code",
   "execution_count": 45,
   "metadata": {
    "id": "ZYQYKnhfD-_s"
   },
   "outputs": [],
   "source": [
    "from sklearn.metrics import classification_report\n",
    "\n",
    "pred=model.predict([X1_test, X2_test])\n",
    "threshold=0.5\n",
    "pred[pred>=threshold]=1\n",
    "pred[pred!=1]=0"
   ]
  },
  {
   "cell_type": "code",
   "execution_count": 46,
   "metadata": {
    "colab": {
     "base_uri": "https://localhost:8080/"
    },
    "id": "0p_MagZpFJ7F",
    "outputId": "f5b25871-ac6a-4e02-e763-a9601775877b"
   },
   "outputs": [
    {
     "name": "stdout",
     "output_type": "stream",
     "text": [
      "              precision    recall  f1-score   support\n",
      "\n",
      "           0       0.81      0.83      0.82     51771\n",
      "           1       0.68      0.65      0.66     29087\n",
      "\n",
      "    accuracy                           0.77     80858\n",
      "   macro avg       0.75      0.74      0.74     80858\n",
      "weighted avg       0.76      0.77      0.76     80858\n",
      "\n"
     ]
    }
   ],
   "source": [
    "print(classification_report(Y1_test, pred))"
   ]
  },
  {
   "cell_type": "code",
   "execution_count": 48,
   "metadata": {
    "colab": {
     "base_uri": "https://localhost:8080/",
     "height": 296
    },
    "id": "ichiqi5fF1wS",
    "outputId": "4560933a-03ed-412d-fc9e-7717b9f17fd0"
   },
   "outputs": [
    {
     "data": {
      "text/plain": [
       "Text(33.0, 0.5, 'Actual')"
      ]
     },
     "execution_count": 48,
     "metadata": {},
     "output_type": "execute_result"
    },
    {
     "data": {
      "image/png": "[encoded data removed]",
      "text/plain": [
       "<Figure size 432x288 with 2 Axes>"
      ]
     },
     "metadata": {
      "needs_background": "light"
     },
     "output_type": "display_data"
    }
   ],
   "source": [
    "from sklearn.metrics import  confusion_matrix\n",
    "\n",
    "cm=confusion_matrix(Y1_test, pred)\n",
    "sns.heatmap(cm, annot=True)\n",
    "plt.xlabel('Predicted')\n",
    "plt.ylabel('Actual')"
   ]
  },
  {
   "cell_type": "code",
   "execution_count": null,
   "metadata": {
    "id": "Fnk5E0KiH4Gl"
   },
   "outputs": [],
   "source": []
  }
 ],
 "metadata": {
  "accelerator": "GPU",
  "colab": {
   "collapsed_sections": [
    "P5DMCi3gOW5B",
    "_XbMdDeIfezH",
    "jNZPTki6sae4",
    "Frnqpo4i4VAy",
    "pyBbD5PGG1vq",
    "ydfEWhooG4ew",
    "oGy1_ixp207k",
    "XIH2oCIS1Vgd"
   ],
   "name": "Quora_Question_Pair_Similarity.ipynb",
   "provenance": []
  },
  "kernelspec": {
   "display_name": "Python 3",
   "language": "python",
   "name": "python3"
  },
  "language_info": {
   "codemirror_mode": {
    "name": "ipython",
    "version": 3
   },
   "file_extension": ".py",
   "mimetype": "text/x-python",
   "name": "python",
   "nbconvert_exporter": "python",
   "pygments_lexer": "ipython3",
   "version": "3.8.5"
  },
  "widgets": {
   "application/vnd.jupyter.widget-state+json": {
    "0096000ae8044c97bef4a7c5fe5e8bab": {
     "model_module": "@jupyter-widgets/controls",
     "model_module_version": "1.5.0",
     "model_name": "HTMLModel",
     "state": {
      "_dom_classes": [],
      "_model_module": "@jupyter-widgets/controls",
      "_model_module_version": "1.5.0",
      "_model_name": "HTMLModel",
      "_view_count": null,
      "_view_module": "@jupyter-widgets/controls",
      "_view_module_version": "1.5.0",
      "_view_name": "HTMLView",
      "description": "",
      "description_tooltip": null,
      "layout": "IPY_MODEL_e7550a635b51409a84be84d4a87a2c79",
      "placeholder": "​",
      "style": "IPY_MODEL_10a7e89795b0407b9752547c573e4459",
      "value": ""
     }
    },
    "0154abd5cd264ff19a5edb95688f9397": {
     "model_module": "@jupyter-widgets/controls",
     "model_module_version": "1.5.0",
     "model_name": "ProgressStyleModel",
     "state": {
      "_model_module": "@jupyter-widgets/controls",
      "_model_module_version": "1.5.0",
      "_model_name": "ProgressStyleModel",
      "_view_count": null,
      "_view_module": "@jupyter-widgets/base",
      "_view_module_version": "1.2.0",
      "_view_name": "StyleView",
      "bar_color": null,
      "description_width": ""
     }
    },
    "0768ac7e1a264c17bfb7664dd319946e": {
     "model_module": "@jupyter-widgets/controls",
     "model_module_version": "1.5.0",
     "model_name": "DescriptionStyleModel",
     "state": {
      "_model_module": "@jupyter-widgets/controls",
      "_model_module_version": "1.5.0",
      "_model_name": "DescriptionStyleModel",
      "_view_count": null,
      "_view_module": "@jupyter-widgets/base",
      "_view_module_version": "1.2.0",
      "_view_name": "StyleView",
      "description_width": ""
     }
    },
    "0a4ac8830d324432b8f4410480e2ddad": {
     "model_module": "@jupyter-widgets/controls",
     "model_module_version": "1.5.0",
     "model_name": "DescriptionStyleModel",
     "state": {
      "_model_module": "@jupyter-widgets/controls",
      "_model_module_version": "1.5.0",
      "_model_name": "DescriptionStyleModel",
      "_view_count": null,
      "_view_module": "@jupyter-widgets/base",
      "_view_module_version": "1.2.0",
      "_view_name": "StyleView",
      "description_width": ""
     }
    },
    "10a7e89795b0407b9752547c573e4459": {
     "model_module": "@jupyter-widgets/controls",
     "model_module_version": "1.5.0",
     "model_name": "DescriptionStyleModel",
     "state": {
      "_model_module": "@jupyter-widgets/controls",
      "_model_module_version": "1.5.0",
      "_model_name": "DescriptionStyleModel",
      "_view_count": null,
      "_view_module": "@jupyter-widgets/base",
      "_view_module_version": "1.2.0",
      "_view_name": "StyleView",
      "description_width": ""
     }
    },
    "163ba68acdcb4d38999418e8d1683542": {
     "model_module": "@jupyter-widgets/base",
     "model_module_version": "1.2.0",
     "model_name": "LayoutModel",
     "state": {
      "_model_module": "@jupyter-widgets/base",
      "_model_module_version": "1.2.0",
      "_model_name": "LayoutModel",
      "_view_count": null,
      "_view_module": "@jupyter-widgets/base",
      "_view_module_version": "1.2.0",
      "_view_name": "LayoutView",
      "align_content": null,
      "align_items": null,
      "align_self": null,
      "border": null,
      "bottom": null,
      "display": null,
      "flex": null,
      "flex_flow": null,
      "grid_area": null,
      "grid_auto_columns": null,
      "grid_auto_flow": null,
      "grid_auto_rows": null,
      "grid_column": null,
      "grid_gap": null,
      "grid_row": null,
      "grid_template_areas": null,
      "grid_template_columns": null,
      "grid_template_rows": null,
      "height": null,
      "justify_content": null,
      "justify_items": null,
      "left": null,
      "margin": null,
      "max_height": null,
      "max_width": null,
      "min_height": null,
      "min_width": null,
      "object_fit": null,
      "object_position": null,
      "order": null,
      "overflow": null,
      "overflow_x": null,
      "overflow_y": null,
      "padding": null,
      "right": null,
      "top": null,
      "visibility": null,
      "width": null
     }
    },
    "165b5d735faf4c5cae34614d840c6af2": {
     "model_module": "@jupyter-widgets/controls",
     "model_module_version": "1.5.0",
     "model_name": "DescriptionStyleModel",
     "state": {
      "_model_module": "@jupyter-widgets/controls",
      "_model_module_version": "1.5.0",
      "_model_name": "DescriptionStyleModel",
      "_view_count": null,
      "_view_module": "@jupyter-widgets/base",
      "_view_module_version": "1.2.0",
      "_view_name": "StyleView",
      "description_width": ""
     }
    },
    "16ecfc7743e94467b437bb9a493580a6": {
     "model_module": "@jupyter-widgets/controls",
     "model_module_version": "1.5.0",
     "model_name": "ProgressStyleModel",
     "state": {
      "_model_module": "@jupyter-widgets/controls",
      "_model_module_version": "1.5.0",
      "_model_name": "ProgressStyleModel",
      "_view_count": null,
      "_view_module": "@jupyter-widgets/base",
      "_view_module_version": "1.2.0",
      "_view_name": "StyleView",
      "bar_color": null,
      "description_width": ""
     }
    },
    "21b0d8f4873b437c9dc289a3e3898afb": {
     "model_module": "@jupyter-widgets/base",
     "model_module_version": "1.2.0",
     "model_name": "LayoutModel",
     "state": {
      "_model_module": "@jupyter-widgets/base",
      "_model_module_version": "1.2.0",
      "_model_name": "LayoutModel",
      "_view_count": null,
      "_view_module": "@jupyter-widgets/base",
      "_view_module_version": "1.2.0",
      "_view_name": "LayoutView",
      "align_content": null,
      "align_items": null,
      "align_self": null,
      "border": null,
      "bottom": null,
      "display": null,
      "flex": null,
      "flex_flow": null,
      "grid_area": null,
      "grid_auto_columns": null,
      "grid_auto_flow": null,
      "grid_auto_rows": null,
      "grid_column": null,
      "grid_gap": null,
      "grid_row": null,
      "grid_template_areas": null,
      "grid_template_columns": null,
      "grid_template_rows": null,
      "height": null,
      "justify_content": null,
      "justify_items": null,
      "left": null,
      "margin": null,
      "max_height": null,
      "max_width": null,
      "min_height": null,
      "min_width": null,
      "object_fit": null,
      "object_position": null,
      "order": null,
      "overflow": null,
      "overflow_x": null,
      "overflow_y": null,
      "padding": null,
      "right": null,
      "top": null,
      "visibility": null,
      "width": null
     }
    },
    "34808df4785e45b39cc78e2a81056a0a": {
     "model_module": "@jupyter-widgets/controls",
     "model_module_version": "1.5.0",
     "model_name": "DescriptionStyleModel",
     "state": {
      "_model_module": "@jupyter-widgets/controls",
      "_model_module_version": "1.5.0",
      "_model_name": "DescriptionStyleModel",
      "_view_count": null,
      "_view_module": "@jupyter-widgets/base",
      "_view_module_version": "1.2.0",
      "_view_name": "StyleView",
      "description_width": ""
     }
    },
    "473aeceb320d42f9bfbd23a13d18bea1": {
     "model_module": "@jupyter-widgets/base",
     "model_module_version": "1.2.0",
     "model_name": "LayoutModel",
     "state": {
      "_model_module": "@jupyter-widgets/base",
      "_model_module_version": "1.2.0",
      "_model_name": "LayoutModel",
      "_view_count": null,
      "_view_module": "@jupyter-widgets/base",
      "_view_module_version": "1.2.0",
      "_view_name": "LayoutView",
      "align_content": null,
      "align_items": null,
      "align_self": null,
      "border": null,
      "bottom": null,
      "display": null,
      "flex": null,
      "flex_flow": null,
      "grid_area": null,
      "grid_auto_columns": null,
      "grid_auto_flow": null,
      "grid_auto_rows": null,
      "grid_column": null,
      "grid_gap": null,
      "grid_row": null,
      "grid_template_areas": null,
      "grid_template_columns": null,
      "grid_template_rows": null,
      "height": null,
      "justify_content": null,
      "justify_items": null,
      "left": null,
      "margin": null,
      "max_height": null,
      "max_width": null,
      "min_height": null,
      "min_width": null,
      "object_fit": null,
      "object_position": null,
      "order": null,
      "overflow": null,
      "overflow_x": null,
      "overflow_y": null,
      "padding": null,
      "right": null,
      "top": null,
      "visibility": null,
      "width": null
     }
    },
    "4d1454102fe44b5caf2f72cd9e1e84da": {
     "model_module": "@jupyter-widgets/base",
     "model_module_version": "1.2.0",
     "model_name": "LayoutModel",
     "state": {
      "_model_module": "@jupyter-widgets/base",
      "_model_module_version": "1.2.0",
      "_model_name": "LayoutModel",
      "_view_count": null,
      "_view_module": "@jupyter-widgets/base",
      "_view_module_version": "1.2.0",
      "_view_name": "LayoutView",
      "align_content": null,
      "align_items": null,
      "align_self": null,
      "border": null,
      "bottom": null,
      "display": null,
      "flex": null,
      "flex_flow": null,
      "grid_area": null,
      "grid_auto_columns": null,
      "grid_auto_flow": null,
      "grid_auto_rows": null,
      "grid_column": null,
      "grid_gap": null,
      "grid_row": null,
      "grid_template_areas": null,
      "grid_template_columns": null,
      "grid_template_rows": null,
      "height": null,
      "justify_content": null,
      "justify_items": null,
      "left": null,
      "margin": null,
      "max_height": null,
      "max_width": null,
      "min_height": null,
      "min_width": null,
      "object_fit": null,
      "object_position": null,
      "order": null,
      "overflow": null,
      "overflow_x": null,
      "overflow_y": null,
      "padding": null,
      "right": null,
      "top": null,
      "visibility": null,
      "width": null
     }
    },
    "4dfa59039e844222916186985f5751ec": {
     "model_module": "@jupyter-widgets/base",
     "model_module_version": "1.2.0",
     "model_name": "LayoutModel",
     "state": {
      "_model_module": "@jupyter-widgets/base",
      "_model_module_version": "1.2.0",
      "_model_name": "LayoutModel",
      "_view_count": null,
      "_view_module": "@jupyter-widgets/base",
      "_view_module_version": "1.2.0",
      "_view_name": "LayoutView",
      "align_content": null,
      "align_items": null,
      "align_self": null,
      "border": null,
      "bottom": null,
      "display": null,
      "flex": null,
      "flex_flow": null,
      "grid_area": null,
      "grid_auto_columns": null,
      "grid_auto_flow": null,
      "grid_auto_rows": null,
      "grid_column": null,
      "grid_gap": null,
      "grid_row": null,
      "grid_template_areas": null,
      "grid_template_columns": null,
      "grid_template_rows": null,
      "height": null,
      "justify_content": null,
      "justify_items": null,
      "left": null,
      "margin": null,
      "max_height": null,
      "max_width": null,
      "min_height": null,
      "min_width": null,
      "object_fit": null,
      "object_position": null,
      "order": null,
      "overflow": null,
      "overflow_x": null,
      "overflow_y": null,
      "padding": null,
      "right": null,
      "top": null,
      "visibility": null,
      "width": null
     }
    },
    "56c76d4f770844dba1c7825031f5017f": {
     "model_module": "@jupyter-widgets/controls",
     "model_module_version": "1.5.0",
     "model_name": "HBoxModel",
     "state": {
      "_dom_classes": [],
      "_model_module": "@jupyter-widgets/controls",
      "_model_module_version": "1.5.0",
      "_model_name": "HBoxModel",
      "_view_count": null,
      "_view_module": "@jupyter-widgets/controls",
      "_view_module_version": "1.5.0",
      "_view_name": "HBoxView",
      "box_style": "",
      "children": [
       "IPY_MODEL_58b613388cb54b5e8a9b4378ef7f0524",
       "IPY_MODEL_a68655d49cac405f8348fcc9eb2eb7d1",
       "IPY_MODEL_611d21e176d64d77923390e1dd16d328"
      ],
      "layout": "IPY_MODEL_6f1ed587106f4a99ad6c65d87df56e28"
     }
    },
    "58b613388cb54b5e8a9b4378ef7f0524": {
     "model_module": "@jupyter-widgets/controls",
     "model_module_version": "1.5.0",
     "model_name": "HTMLModel",
     "state": {
      "_dom_classes": [],
      "_model_module": "@jupyter-widgets/controls",
      "_model_module_version": "1.5.0",
      "_model_name": "HTMLModel",
      "_view_count": null,
      "_view_module": "@jupyter-widgets/controls",
      "_view_module_version": "1.5.0",
      "_view_name": "HTMLView",
      "description": "",
      "description_tooltip": null,
      "layout": "IPY_MODEL_e084270d11a9458e93f5af94274cd4ff",
      "placeholder": "​",
      "style": "IPY_MODEL_a5c50005f29344ee94c966e6c238f8fd",
      "value": ""
     }
    },
    "5f19e166528744ad875af365b116bc1d": {
     "model_module": "@jupyter-widgets/controls",
     "model_module_version": "1.5.0",
     "model_name": "FloatProgressModel",
     "state": {
      "_dom_classes": [],
      "_model_module": "@jupyter-widgets/controls",
      "_model_module_version": "1.5.0",
      "_model_name": "FloatProgressModel",
      "_view_count": null,
      "_view_module": "@jupyter-widgets/controls",
      "_view_module_version": "1.5.0",
      "_view_name": "ProgressView",
      "bar_style": "success",
      "description": "",
      "description_tooltip": null,
      "layout": "IPY_MODEL_de1e1beb91f745078fcf66d20bd1233e",
      "max": 87322,
      "min": 0,
      "orientation": "horizontal",
      "style": "IPY_MODEL_16ecfc7743e94467b437bb9a493580a6",
      "value": 87322
     }
    },
    "60ef9856fc45442a8ffa48bddfb4c696": {
     "model_module": "@jupyter-widgets/controls",
     "model_module_version": "1.5.0",
     "model_name": "DescriptionStyleModel",
     "state": {
      "_model_module": "@jupyter-widgets/controls",
      "_model_module_version": "1.5.0",
      "_model_name": "DescriptionStyleModel",
      "_view_count": null,
      "_view_module": "@jupyter-widgets/base",
      "_view_module_version": "1.2.0",
      "_view_name": "StyleView",
      "description_width": ""
     }
    },
    "611d21e176d64d77923390e1dd16d328": {
     "model_module": "@jupyter-widgets/controls",
     "model_module_version": "1.5.0",
     "model_name": "HTMLModel",
     "state": {
      "_dom_classes": [],
      "_model_module": "@jupyter-widgets/controls",
      "_model_module_version": "1.5.0",
      "_model_name": "HTMLModel",
      "_view_count": null,
      "_view_module": "@jupyter-widgets/controls",
      "_view_module_version": "1.5.0",
      "_view_name": "HTMLView",
      "description": "",
      "description_tooltip": null,
      "layout": "IPY_MODEL_4d1454102fe44b5caf2f72cd9e1e84da",
      "placeholder": "​",
      "style": "IPY_MODEL_34808df4785e45b39cc78e2a81056a0a",
      "value": " 808574/? [01:30&lt;00:00, 9139.61it/s]"
     }
    },
    "64ff932914a94633a80d4322204703ec": {
     "model_module": "@jupyter-widgets/base",
     "model_module_version": "1.2.0",
     "model_name": "LayoutModel",
     "state": {
      "_model_module": "@jupyter-widgets/base",
      "_model_module_version": "1.2.0",
      "_model_name": "LayoutModel",
      "_view_count": null,
      "_view_module": "@jupyter-widgets/base",
      "_view_module_version": "1.2.0",
      "_view_name": "LayoutView",
      "align_content": null,
      "align_items": null,
      "align_self": null,
      "border": null,
      "bottom": null,
      "display": null,
      "flex": null,
      "flex_flow": null,
      "grid_area": null,
      "grid_auto_columns": null,
      "grid_auto_flow": null,
      "grid_auto_rows": null,
      "grid_column": null,
      "grid_gap": null,
      "grid_row": null,
      "grid_template_areas": null,
      "grid_template_columns": null,
      "grid_template_rows": null,
      "height": null,
      "justify_content": null,
      "justify_items": null,
      "left": null,
      "margin": null,
      "max_height": null,
      "max_width": null,
      "min_height": null,
      "min_width": null,
      "object_fit": null,
      "object_position": null,
      "order": null,
      "overflow": null,
      "overflow_x": null,
      "overflow_y": null,
      "padding": null,
      "right": null,
      "top": null,
      "visibility": null,
      "width": null
     }
    },
    "6dbcf22a76924c34b21827bc09a988ab": {
     "model_module": "@jupyter-widgets/controls",
     "model_module_version": "1.5.0",
     "model_name": "DescriptionStyleModel",
     "state": {
      "_model_module": "@jupyter-widgets/controls",
      "_model_module_version": "1.5.0",
      "_model_name": "DescriptionStyleModel",
      "_view_count": null,
      "_view_module": "@jupyter-widgets/base",
      "_view_module_version": "1.2.0",
      "_view_name": "StyleView",
      "description_width": ""
     }
    },
    "6e5e331a8b234847aa73e1580cb95984": {
     "model_module": "@jupyter-widgets/controls",
     "model_module_version": "1.5.0",
     "model_name": "HTMLModel",
     "state": {
      "_dom_classes": [],
      "_model_module": "@jupyter-widgets/controls",
      "_model_module_version": "1.5.0",
      "_model_name": "HTMLModel",
      "_view_count": null,
      "_view_module": "@jupyter-widgets/controls",
      "_view_module_version": "1.5.0",
      "_view_name": "HTMLView",
      "description": "",
      "description_tooltip": null,
      "layout": "IPY_MODEL_add4c412c4be40ebbfd58400eff15e5e",
      "placeholder": "​",
      "style": "IPY_MODEL_0a4ac8830d324432b8f4410480e2ddad",
      "value": " 87322/87322 [00:00&lt;00:00, 415328.44it/s]"
     }
    },
    "6f1ed587106f4a99ad6c65d87df56e28": {
     "model_module": "@jupyter-widgets/base",
     "model_module_version": "1.2.0",
     "model_name": "LayoutModel",
     "state": {
      "_model_module": "@jupyter-widgets/base",
      "_model_module_version": "1.2.0",
      "_model_name": "LayoutModel",
      "_view_count": null,
      "_view_module": "@jupyter-widgets/base",
      "_view_module_version": "1.2.0",
      "_view_name": "LayoutView",
      "align_content": null,
      "align_items": null,
      "align_self": null,
      "border": null,
      "bottom": null,
      "display": null,
      "flex": null,
      "flex_flow": null,
      "grid_area": null,
      "grid_auto_columns": null,
      "grid_auto_flow": null,
      "grid_auto_rows": null,
      "grid_column": null,
      "grid_gap": null,
      "grid_row": null,
      "grid_template_areas": null,
      "grid_template_columns": null,
      "grid_template_rows": null,
      "height": null,
      "justify_content": null,
      "justify_items": null,
      "left": null,
      "margin": null,
      "max_height": null,
      "max_width": null,
      "min_height": null,
      "min_width": null,
      "object_fit": null,
      "object_position": null,
      "order": null,
      "overflow": null,
      "overflow_x": null,
      "overflow_y": null,
      "padding": null,
      "right": null,
      "top": null,
      "visibility": null,
      "width": null
     }
    },
    "719346d2cfde447d924e30c469b4c52d": {
     "model_module": "@jupyter-widgets/controls",
     "model_module_version": "1.5.0",
     "model_name": "ProgressStyleModel",
     "state": {
      "_model_module": "@jupyter-widgets/controls",
      "_model_module_version": "1.5.0",
      "_model_name": "ProgressStyleModel",
      "_view_count": null,
      "_view_module": "@jupyter-widgets/base",
      "_view_module_version": "1.2.0",
      "_view_name": "StyleView",
      "bar_color": null,
      "description_width": ""
     }
    },
    "768704607bab4145bbcdc34b64deac54": {
     "model_module": "@jupyter-widgets/controls",
     "model_module_version": "1.5.0",
     "model_name": "HTMLModel",
     "state": {
      "_dom_classes": [],
      "_model_module": "@jupyter-widgets/controls",
      "_model_module_version": "1.5.0",
      "_model_name": "HTMLModel",
      "_view_count": null,
      "_view_module": "@jupyter-widgets/controls",
      "_view_module_version": "1.5.0",
      "_view_name": "HTMLView",
      "description": "",
      "description_tooltip": null,
      "layout": "IPY_MODEL_b4a60dcbae94470a9d5b4f2482a5fa99",
      "placeholder": "​",
      "style": "IPY_MODEL_165b5d735faf4c5cae34614d840c6af2",
      "value": " 404290/? [03:02&lt;00:00, 2214.06it/s]"
     }
    },
    "80fd9d6649c54790bf109bf36d4fae5a": {
     "model_module": "@jupyter-widgets/controls",
     "model_module_version": "1.5.0",
     "model_name": "ProgressStyleModel",
     "state": {
      "_model_module": "@jupyter-widgets/controls",
      "_model_module_version": "1.5.0",
      "_model_name": "ProgressStyleModel",
      "_view_count": null,
      "_view_module": "@jupyter-widgets/base",
      "_view_module_version": "1.2.0",
      "_view_name": "StyleView",
      "bar_color": null,
      "description_width": ""
     }
    },
    "81012f1d67db497c9b8c66ccf0994e4e": {
     "model_module": "@jupyter-widgets/controls",
     "model_module_version": "1.5.0",
     "model_name": "HBoxModel",
     "state": {
      "_dom_classes": [],
      "_model_module": "@jupyter-widgets/controls",
      "_model_module_version": "1.5.0",
      "_model_name": "HBoxModel",
      "_view_count": null,
      "_view_module": "@jupyter-widgets/controls",
      "_view_module_version": "1.5.0",
      "_view_name": "HBoxView",
      "box_style": "",
      "children": [
       "IPY_MODEL_acfdd676cfec49e0bf3f02c0283251b3",
       "IPY_MODEL_f5b2c0f5ee7f41fc9564641233652a85",
       "IPY_MODEL_df72b942b3c0457da7eff3c62eb1367c"
      ],
      "layout": "IPY_MODEL_21b0d8f4873b437c9dc289a3e3898afb"
     }
    },
    "8326e49bc7a44242a0a88eed729c4e9d": {
     "model_module": "@jupyter-widgets/controls",
     "model_module_version": "1.5.0",
     "model_name": "DescriptionStyleModel",
     "state": {
      "_model_module": "@jupyter-widgets/controls",
      "_model_module_version": "1.5.0",
      "_model_name": "DescriptionStyleModel",
      "_view_count": null,
      "_view_module": "@jupyter-widgets/base",
      "_view_module_version": "1.2.0",
      "_view_name": "StyleView",
      "description_width": ""
     }
    },
    "8cdc0e4a49e84643ba0a7645aec13dc7": {
     "model_module": "@jupyter-widgets/controls",
     "model_module_version": "1.5.0",
     "model_name": "HBoxModel",
     "state": {
      "_dom_classes": [],
      "_model_module": "@jupyter-widgets/controls",
      "_model_module_version": "1.5.0",
      "_model_name": "HBoxModel",
      "_view_count": null,
      "_view_module": "@jupyter-widgets/controls",
      "_view_module_version": "1.5.0",
      "_view_name": "HBoxView",
      "box_style": "",
      "children": [
       "IPY_MODEL_92b4285bbbbf43b6abed5fd9bceeda0f",
       "IPY_MODEL_5f19e166528744ad875af365b116bc1d",
       "IPY_MODEL_6e5e331a8b234847aa73e1580cb95984"
      ],
      "layout": "IPY_MODEL_f49f1d45a2254e0ebea3f3eaff177172"
     }
    },
    "92b4285bbbbf43b6abed5fd9bceeda0f": {
     "model_module": "@jupyter-widgets/controls",
     "model_module_version": "1.5.0",
     "model_name": "HTMLModel",
     "state": {
      "_dom_classes": [],
      "_model_module": "@jupyter-widgets/controls",
      "_model_module_version": "1.5.0",
      "_model_name": "HTMLModel",
      "_view_count": null,
      "_view_module": "@jupyter-widgets/controls",
      "_view_module_version": "1.5.0",
      "_view_name": "HTMLView",
      "description": "",
      "description_tooltip": null,
      "layout": "IPY_MODEL_ddd11ac8ce3e4723b3be542620a1ba5a",
      "placeholder": "​",
      "style": "IPY_MODEL_60ef9856fc45442a8ffa48bddfb4c696",
      "value": "100%"
     }
    },
    "93ee1abc0e0f4bddaa2acd076841468d": {
     "model_module": "@jupyter-widgets/base",
     "model_module_version": "1.2.0",
     "model_name": "LayoutModel",
     "state": {
      "_model_module": "@jupyter-widgets/base",
      "_model_module_version": "1.2.0",
      "_model_name": "LayoutModel",
      "_view_count": null,
      "_view_module": "@jupyter-widgets/base",
      "_view_module_version": "1.2.0",
      "_view_name": "LayoutView",
      "align_content": null,
      "align_items": null,
      "align_self": null,
      "border": null,
      "bottom": null,
      "display": null,
      "flex": null,
      "flex_flow": null,
      "grid_area": null,
      "grid_auto_columns": null,
      "grid_auto_flow": null,
      "grid_auto_rows": null,
      "grid_column": null,
      "grid_gap": null,
      "grid_row": null,
      "grid_template_areas": null,
      "grid_template_columns": null,
      "grid_template_rows": null,
      "height": null,
      "justify_content": null,
      "justify_items": null,
      "left": null,
      "margin": null,
      "max_height": null,
      "max_width": null,
      "min_height": null,
      "min_width": null,
      "object_fit": null,
      "object_position": null,
      "order": null,
      "overflow": null,
      "overflow_x": null,
      "overflow_y": null,
      "padding": null,
      "right": null,
      "top": null,
      "visibility": null,
      "width": null
     }
    },
    "9d730d77358344ba9cb85cc8445faa4e": {
     "model_module": "@jupyter-widgets/base",
     "model_module_version": "1.2.0",
     "model_name": "LayoutModel",
     "state": {
      "_model_module": "@jupyter-widgets/base",
      "_model_module_version": "1.2.0",
      "_model_name": "LayoutModel",
      "_view_count": null,
      "_view_module": "@jupyter-widgets/base",
      "_view_module_version": "1.2.0",
      "_view_name": "LayoutView",
      "align_content": null,
      "align_items": null,
      "align_self": null,
      "border": null,
      "bottom": null,
      "display": null,
      "flex": null,
      "flex_flow": null,
      "grid_area": null,
      "grid_auto_columns": null,
      "grid_auto_flow": null,
      "grid_auto_rows": null,
      "grid_column": null,
      "grid_gap": null,
      "grid_row": null,
      "grid_template_areas": null,
      "grid_template_columns": null,
      "grid_template_rows": null,
      "height": null,
      "justify_content": null,
      "justify_items": null,
      "left": null,
      "margin": null,
      "max_height": null,
      "max_width": null,
      "min_height": null,
      "min_width": null,
      "object_fit": null,
      "object_position": null,
      "order": null,
      "overflow": null,
      "overflow_x": null,
      "overflow_y": null,
      "padding": null,
      "right": null,
      "top": null,
      "visibility": null,
      "width": null
     }
    },
    "a449e1db83664aa9bb56f453f5c7612f": {
     "model_module": "@jupyter-widgets/base",
     "model_module_version": "1.2.0",
     "model_name": "LayoutModel",
     "state": {
      "_model_module": "@jupyter-widgets/base",
      "_model_module_version": "1.2.0",
      "_model_name": "LayoutModel",
      "_view_count": null,
      "_view_module": "@jupyter-widgets/base",
      "_view_module_version": "1.2.0",
      "_view_name": "LayoutView",
      "align_content": null,
      "align_items": null,
      "align_self": null,
      "border": null,
      "bottom": null,
      "display": null,
      "flex": null,
      "flex_flow": null,
      "grid_area": null,
      "grid_auto_columns": null,
      "grid_auto_flow": null,
      "grid_auto_rows": null,
      "grid_column": null,
      "grid_gap": null,
      "grid_row": null,
      "grid_template_areas": null,
      "grid_template_columns": null,
      "grid_template_rows": null,
      "height": null,
      "justify_content": null,
      "justify_items": null,
      "left": null,
      "margin": null,
      "max_height": null,
      "max_width": null,
      "min_height": null,
      "min_width": null,
      "object_fit": null,
      "object_position": null,
      "order": null,
      "overflow": null,
      "overflow_x": null,
      "overflow_y": null,
      "padding": null,
      "right": null,
      "top": null,
      "visibility": null,
      "width": "20px"
     }
    },
    "a5c50005f29344ee94c966e6c238f8fd": {
     "model_module": "@jupyter-widgets/controls",
     "model_module_version": "1.5.0",
     "model_name": "DescriptionStyleModel",
     "state": {
      "_model_module": "@jupyter-widgets/controls",
      "_model_module_version": "1.5.0",
      "_model_name": "DescriptionStyleModel",
      "_view_count": null,
      "_view_module": "@jupyter-widgets/base",
      "_view_module_version": "1.2.0",
      "_view_name": "StyleView",
      "description_width": ""
     }
    },
    "a68655d49cac405f8348fcc9eb2eb7d1": {
     "model_module": "@jupyter-widgets/controls",
     "model_module_version": "1.5.0",
     "model_name": "FloatProgressModel",
     "state": {
      "_dom_classes": [],
      "_model_module": "@jupyter-widgets/controls",
      "_model_module_version": "1.5.0",
      "_model_name": "FloatProgressModel",
      "_view_count": null,
      "_view_module": "@jupyter-widgets/controls",
      "_view_module_version": "1.5.0",
      "_view_name": "ProgressView",
      "bar_style": "success",
      "description": "",
      "description_tooltip": null,
      "layout": "IPY_MODEL_eecc3ddd85bd4c5eb46afc479531eed3",
      "max": 1,
      "min": 0,
      "orientation": "horizontal",
      "style": "IPY_MODEL_0154abd5cd264ff19a5edb95688f9397",
      "value": 1
     }
    },
    "abdbb4777b5b4f03b85db6f4f5f4d202": {
     "model_module": "@jupyter-widgets/controls",
     "model_module_version": "1.5.0",
     "model_name": "HBoxModel",
     "state": {
      "_dom_classes": [],
      "_model_module": "@jupyter-widgets/controls",
      "_model_module_version": "1.5.0",
      "_model_name": "HBoxModel",
      "_view_count": null,
      "_view_module": "@jupyter-widgets/controls",
      "_view_module_version": "1.5.0",
      "_view_name": "HBoxView",
      "box_style": "",
      "children": [
       "IPY_MODEL_0096000ae8044c97bef4a7c5fe5e8bab",
       "IPY_MODEL_d7085abc27bf425b8fe42406d4d40f40",
       "IPY_MODEL_768704607bab4145bbcdc34b64deac54"
      ],
      "layout": "IPY_MODEL_9d730d77358344ba9cb85cc8445faa4e"
     }
    },
    "acfdd676cfec49e0bf3f02c0283251b3": {
     "model_module": "@jupyter-widgets/controls",
     "model_module_version": "1.5.0",
     "model_name": "HTMLModel",
     "state": {
      "_dom_classes": [],
      "_model_module": "@jupyter-widgets/controls",
      "_model_module_version": "1.5.0",
      "_model_name": "HTMLModel",
      "_view_count": null,
      "_view_module": "@jupyter-widgets/controls",
      "_view_module_version": "1.5.0",
      "_view_name": "HTMLView",
      "description": "",
      "description_tooltip": null,
      "layout": "IPY_MODEL_64ff932914a94633a80d4322204703ec",
      "placeholder": "​",
      "style": "IPY_MODEL_0768ac7e1a264c17bfb7664dd319946e",
      "value": ""
     }
    },
    "add4c412c4be40ebbfd58400eff15e5e": {
     "model_module": "@jupyter-widgets/base",
     "model_module_version": "1.2.0",
     "model_name": "LayoutModel",
     "state": {
      "_model_module": "@jupyter-widgets/base",
      "_model_module_version": "1.2.0",
      "_model_name": "LayoutModel",
      "_view_count": null,
      "_view_module": "@jupyter-widgets/base",
      "_view_module_version": "1.2.0",
      "_view_name": "LayoutView",
      "align_content": null,
      "align_items": null,
      "align_self": null,
      "border": null,
      "bottom": null,
      "display": null,
      "flex": null,
      "flex_flow": null,
      "grid_area": null,
      "grid_auto_columns": null,
      "grid_auto_flow": null,
      "grid_auto_rows": null,
      "grid_column": null,
      "grid_gap": null,
      "grid_row": null,
      "grid_template_areas": null,
      "grid_template_columns": null,
      "grid_template_rows": null,
      "height": null,
      "justify_content": null,
      "justify_items": null,
      "left": null,
      "margin": null,
      "max_height": null,
      "max_width": null,
      "min_height": null,
      "min_width": null,
      "object_fit": null,
      "object_position": null,
      "order": null,
      "overflow": null,
      "overflow_x": null,
      "overflow_y": null,
      "padding": null,
      "right": null,
      "top": null,
      "visibility": null,
      "width": null
     }
    },
    "b2018d6fec0b43a0baa70c3ee4428f11": {
     "model_module": "@jupyter-widgets/base",
     "model_module_version": "1.2.0",
     "model_name": "LayoutModel",
     "state": {
      "_model_module": "@jupyter-widgets/base",
      "_model_module_version": "1.2.0",
      "_model_name": "LayoutModel",
      "_view_count": null,
      "_view_module": "@jupyter-widgets/base",
      "_view_module_version": "1.2.0",
      "_view_name": "LayoutView",
      "align_content": null,
      "align_items": null,
      "align_self": null,
      "border": null,
      "bottom": null,
      "display": null,
      "flex": null,
      "flex_flow": null,
      "grid_area": null,
      "grid_auto_columns": null,
      "grid_auto_flow": null,
      "grid_auto_rows": null,
      "grid_column": null,
      "grid_gap": null,
      "grid_row": null,
      "grid_template_areas": null,
      "grid_template_columns": null,
      "grid_template_rows": null,
      "height": null,
      "justify_content": null,
      "justify_items": null,
      "left": null,
      "margin": null,
      "max_height": null,
      "max_width": null,
      "min_height": null,
      "min_width": null,
      "object_fit": null,
      "object_position": null,
      "order": null,
      "overflow": null,
      "overflow_x": null,
      "overflow_y": null,
      "padding": null,
      "right": null,
      "top": null,
      "visibility": null,
      "width": "20px"
     }
    },
    "b4a60dcbae94470a9d5b4f2482a5fa99": {
     "model_module": "@jupyter-widgets/base",
     "model_module_version": "1.2.0",
     "model_name": "LayoutModel",
     "state": {
      "_model_module": "@jupyter-widgets/base",
      "_model_module_version": "1.2.0",
      "_model_name": "LayoutModel",
      "_view_count": null,
      "_view_module": "@jupyter-widgets/base",
      "_view_module_version": "1.2.0",
      "_view_name": "LayoutView",
      "align_content": null,
      "align_items": null,
      "align_self": null,
      "border": null,
      "bottom": null,
      "display": null,
      "flex": null,
      "flex_flow": null,
      "grid_area": null,
      "grid_auto_columns": null,
      "grid_auto_flow": null,
      "grid_auto_rows": null,
      "grid_column": null,
      "grid_gap": null,
      "grid_row": null,
      "grid_template_areas": null,
      "grid_template_columns": null,
      "grid_template_rows": null,
      "height": null,
      "justify_content": null,
      "justify_items": null,
      "left": null,
      "margin": null,
      "max_height": null,
      "max_width": null,
      "min_height": null,
      "min_width": null,
      "object_fit": null,
      "object_position": null,
      "order": null,
      "overflow": null,
      "overflow_x": null,
      "overflow_y": null,
      "padding": null,
      "right": null,
      "top": null,
      "visibility": null,
      "width": null
     }
    },
    "b7b396d9186446e4b3dba7fa340478de": {
     "model_module": "@jupyter-widgets/base",
     "model_module_version": "1.2.0",
     "model_name": "LayoutModel",
     "state": {
      "_model_module": "@jupyter-widgets/base",
      "_model_module_version": "1.2.0",
      "_model_name": "LayoutModel",
      "_view_count": null,
      "_view_module": "@jupyter-widgets/base",
      "_view_module_version": "1.2.0",
      "_view_name": "LayoutView",
      "align_content": null,
      "align_items": null,
      "align_self": null,
      "border": null,
      "bottom": null,
      "display": null,
      "flex": null,
      "flex_flow": null,
      "grid_area": null,
      "grid_auto_columns": null,
      "grid_auto_flow": null,
      "grid_auto_rows": null,
      "grid_column": null,
      "grid_gap": null,
      "grid_row": null,
      "grid_template_areas": null,
      "grid_template_columns": null,
      "grid_template_rows": null,
      "height": null,
      "justify_content": null,
      "justify_items": null,
      "left": null,
      "margin": null,
      "max_height": null,
      "max_width": null,
      "min_height": null,
      "min_width": null,
      "object_fit": null,
      "object_position": null,
      "order": null,
      "overflow": null,
      "overflow_x": null,
      "overflow_y": null,
      "padding": null,
      "right": null,
      "top": null,
      "visibility": null,
      "width": "20px"
     }
    },
    "caf70a70c3f449acb140c4131e0f169e": {
     "model_module": "@jupyter-widgets/controls",
     "model_module_version": "1.5.0",
     "model_name": "DescriptionStyleModel",
     "state": {
      "_model_module": "@jupyter-widgets/controls",
      "_model_module_version": "1.5.0",
      "_model_name": "DescriptionStyleModel",
      "_view_count": null,
      "_view_module": "@jupyter-widgets/base",
      "_view_module_version": "1.2.0",
      "_view_name": "StyleView",
      "description_width": ""
     }
    },
    "d7085abc27bf425b8fe42406d4d40f40": {
     "model_module": "@jupyter-widgets/controls",
     "model_module_version": "1.5.0",
     "model_name": "FloatProgressModel",
     "state": {
      "_dom_classes": [],
      "_model_module": "@jupyter-widgets/controls",
      "_model_module_version": "1.5.0",
      "_model_name": "FloatProgressModel",
      "_view_count": null,
      "_view_module": "@jupyter-widgets/controls",
      "_view_module_version": "1.5.0",
      "_view_name": "ProgressView",
      "bar_style": "success",
      "description": "",
      "description_tooltip": null,
      "layout": "IPY_MODEL_b7b396d9186446e4b3dba7fa340478de",
      "max": 1,
      "min": 0,
      "orientation": "horizontal",
      "style": "IPY_MODEL_f6ef5a4e264641d2a12cb75965a2da14",
      "value": 1
     }
    },
    "d7099e7b71f145f685e1a038202711d9": {
     "model_module": "@jupyter-widgets/controls",
     "model_module_version": "1.5.0",
     "model_name": "FloatProgressModel",
     "state": {
      "_dom_classes": [],
      "_model_module": "@jupyter-widgets/controls",
      "_model_module_version": "1.5.0",
      "_model_name": "FloatProgressModel",
      "_view_count": null,
      "_view_module": "@jupyter-widgets/controls",
      "_view_module_version": "1.5.0",
      "_view_name": "ProgressView",
      "bar_style": "success",
      "description": "",
      "description_tooltip": null,
      "layout": "IPY_MODEL_a449e1db83664aa9bb56f453f5c7612f",
      "max": 1,
      "min": 0,
      "orientation": "horizontal",
      "style": "IPY_MODEL_80fd9d6649c54790bf109bf36d4fae5a",
      "value": 1
     }
    },
    "d9136b4e29f547aebe29757f47c3520e": {
     "model_module": "@jupyter-widgets/controls",
     "model_module_version": "1.5.0",
     "model_name": "HBoxModel",
     "state": {
      "_dom_classes": [],
      "_model_module": "@jupyter-widgets/controls",
      "_model_module_version": "1.5.0",
      "_model_name": "HBoxModel",
      "_view_count": null,
      "_view_module": "@jupyter-widgets/controls",
      "_view_module_version": "1.5.0",
      "_view_name": "HBoxView",
      "box_style": "",
      "children": [
       "IPY_MODEL_f694ab46807d47d08332b1ea1e022790",
       "IPY_MODEL_d7099e7b71f145f685e1a038202711d9",
       "IPY_MODEL_e9a4cad33b84491fb16461919e27f746"
      ],
      "layout": "IPY_MODEL_163ba68acdcb4d38999418e8d1683542"
     }
    },
    "ddd11ac8ce3e4723b3be542620a1ba5a": {
     "model_module": "@jupyter-widgets/base",
     "model_module_version": "1.2.0",
     "model_name": "LayoutModel",
     "state": {
      "_model_module": "@jupyter-widgets/base",
      "_model_module_version": "1.2.0",
      "_model_name": "LayoutModel",
      "_view_count": null,
      "_view_module": "@jupyter-widgets/base",
      "_view_module_version": "1.2.0",
      "_view_name": "LayoutView",
      "align_content": null,
      "align_items": null,
      "align_self": null,
      "border": null,
      "bottom": null,
      "display": null,
      "flex": null,
      "flex_flow": null,
      "grid_area": null,
      "grid_auto_columns": null,
      "grid_auto_flow": null,
      "grid_auto_rows": null,
      "grid_column": null,
      "grid_gap": null,
      "grid_row": null,
      "grid_template_areas": null,
      "grid_template_columns": null,
      "grid_template_rows": null,
      "height": null,
      "justify_content": null,
      "justify_items": null,
      "left": null,
      "margin": null,
      "max_height": null,
      "max_width": null,
      "min_height": null,
      "min_width": null,
      "object_fit": null,
      "object_position": null,
      "order": null,
      "overflow": null,
      "overflow_x": null,
      "overflow_y": null,
      "padding": null,
      "right": null,
      "top": null,
      "visibility": null,
      "width": null
     }
    },
    "de1e1beb91f745078fcf66d20bd1233e": {
     "model_module": "@jupyter-widgets/base",
     "model_module_version": "1.2.0",
     "model_name": "LayoutModel",
     "state": {
      "_model_module": "@jupyter-widgets/base",
      "_model_module_version": "1.2.0",
      "_model_name": "LayoutModel",
      "_view_count": null,
      "_view_module": "@jupyter-widgets/base",
      "_view_module_version": "1.2.0",
      "_view_name": "LayoutView",
      "align_content": null,
      "align_items": null,
      "align_self": null,
      "border": null,
      "bottom": null,
      "display": null,
      "flex": null,
      "flex_flow": null,
      "grid_area": null,
      "grid_auto_columns": null,
      "grid_auto_flow": null,
      "grid_auto_rows": null,
      "grid_column": null,
      "grid_gap": null,
      "grid_row": null,
      "grid_template_areas": null,
      "grid_template_columns": null,
      "grid_template_rows": null,
      "height": null,
      "justify_content": null,
      "justify_items": null,
      "left": null,
      "margin": null,
      "max_height": null,
      "max_width": null,
      "min_height": null,
      "min_width": null,
      "object_fit": null,
      "object_position": null,
      "order": null,
      "overflow": null,
      "overflow_x": null,
      "overflow_y": null,
      "padding": null,
      "right": null,
      "top": null,
      "visibility": null,
      "width": null
     }
    },
    "df72b942b3c0457da7eff3c62eb1367c": {
     "model_module": "@jupyter-widgets/controls",
     "model_module_version": "1.5.0",
     "model_name": "HTMLModel",
     "state": {
      "_dom_classes": [],
      "_model_module": "@jupyter-widgets/controls",
      "_model_module_version": "1.5.0",
      "_model_name": "HTMLModel",
      "_view_count": null,
      "_view_module": "@jupyter-widgets/controls",
      "_view_module_version": "1.5.0",
      "_view_name": "HTMLView",
      "description": "",
      "description_tooltip": null,
      "layout": "IPY_MODEL_473aeceb320d42f9bfbd23a13d18bea1",
      "placeholder": "​",
      "style": "IPY_MODEL_8326e49bc7a44242a0a88eed729c4e9d",
      "value": " 404287/? [02:46&lt;00:00, 2266.56it/s]"
     }
    },
    "e084270d11a9458e93f5af94274cd4ff": {
     "model_module": "@jupyter-widgets/base",
     "model_module_version": "1.2.0",
     "model_name": "LayoutModel",
     "state": {
      "_model_module": "@jupyter-widgets/base",
      "_model_module_version": "1.2.0",
      "_model_name": "LayoutModel",
      "_view_count": null,
      "_view_module": "@jupyter-widgets/base",
      "_view_module_version": "1.2.0",
      "_view_name": "LayoutView",
      "align_content": null,
      "align_items": null,
      "align_self": null,
      "border": null,
      "bottom": null,
      "display": null,
      "flex": null,
      "flex_flow": null,
      "grid_area": null,
      "grid_auto_columns": null,
      "grid_auto_flow": null,
      "grid_auto_rows": null,
      "grid_column": null,
      "grid_gap": null,
      "grid_row": null,
      "grid_template_areas": null,
      "grid_template_columns": null,
      "grid_template_rows": null,
      "height": null,
      "justify_content": null,
      "justify_items": null,
      "left": null,
      "margin": null,
      "max_height": null,
      "max_width": null,
      "min_height": null,
      "min_width": null,
      "object_fit": null,
      "object_position": null,
      "order": null,
      "overflow": null,
      "overflow_x": null,
      "overflow_y": null,
      "padding": null,
      "right": null,
      "top": null,
      "visibility": null,
      "width": null
     }
    },
    "e7550a635b51409a84be84d4a87a2c79": {
     "model_module": "@jupyter-widgets/base",
     "model_module_version": "1.2.0",
     "model_name": "LayoutModel",
     "state": {
      "_model_module": "@jupyter-widgets/base",
      "_model_module_version": "1.2.0",
      "_model_name": "LayoutModel",
      "_view_count": null,
      "_view_module": "@jupyter-widgets/base",
      "_view_module_version": "1.2.0",
      "_view_name": "LayoutView",
      "align_content": null,
      "align_items": null,
      "align_self": null,
      "border": null,
      "bottom": null,
      "display": null,
      "flex": null,
      "flex_flow": null,
      "grid_area": null,
      "grid_auto_columns": null,
      "grid_auto_flow": null,
      "grid_auto_rows": null,
      "grid_column": null,
      "grid_gap": null,
      "grid_row": null,
      "grid_template_areas": null,
      "grid_template_columns": null,
      "grid_template_rows": null,
      "height": null,
      "justify_content": null,
      "justify_items": null,
      "left": null,
      "margin": null,
      "max_height": null,
      "max_width": null,
      "min_height": null,
      "min_width": null,
      "object_fit": null,
      "object_position": null,
      "order": null,
      "overflow": null,
      "overflow_x": null,
      "overflow_y": null,
      "padding": null,
      "right": null,
      "top": null,
      "visibility": null,
      "width": null
     }
    },
    "e9a4cad33b84491fb16461919e27f746": {
     "model_module": "@jupyter-widgets/controls",
     "model_module_version": "1.5.0",
     "model_name": "HTMLModel",
     "state": {
      "_dom_classes": [],
      "_model_module": "@jupyter-widgets/controls",
      "_model_module_version": "1.5.0",
      "_model_name": "HTMLModel",
      "_view_count": null,
      "_view_module": "@jupyter-widgets/controls",
      "_view_module_version": "1.5.0",
      "_view_name": "HTMLView",
      "description": "",
      "description_tooltip": null,
      "layout": "IPY_MODEL_4dfa59039e844222916186985f5751ec",
      "placeholder": "​",
      "style": "IPY_MODEL_caf70a70c3f449acb140c4131e0f169e",
      "value": " 3000000/? [00:03&lt;00:00, 750871.72it/s]"
     }
    },
    "eecc3ddd85bd4c5eb46afc479531eed3": {
     "model_module": "@jupyter-widgets/base",
     "model_module_version": "1.2.0",
     "model_name": "LayoutModel",
     "state": {
      "_model_module": "@jupyter-widgets/base",
      "_model_module_version": "1.2.0",
      "_model_name": "LayoutModel",
      "_view_count": null,
      "_view_module": "@jupyter-widgets/base",
      "_view_module_version": "1.2.0",
      "_view_name": "LayoutView",
      "align_content": null,
      "align_items": null,
      "align_self": null,
      "border": null,
      "bottom": null,
      "display": null,
      "flex": null,
      "flex_flow": null,
      "grid_area": null,
      "grid_auto_columns": null,
      "grid_auto_flow": null,
      "grid_auto_rows": null,
      "grid_column": null,
      "grid_gap": null,
      "grid_row": null,
      "grid_template_areas": null,
      "grid_template_columns": null,
      "grid_template_rows": null,
      "height": null,
      "justify_content": null,
      "justify_items": null,
      "left": null,
      "margin": null,
      "max_height": null,
      "max_width": null,
      "min_height": null,
      "min_width": null,
      "object_fit": null,
      "object_position": null,
      "order": null,
      "overflow": null,
      "overflow_x": null,
      "overflow_y": null,
      "padding": null,
      "right": null,
      "top": null,
      "visibility": null,
      "width": "20px"
     }
    },
    "f49f1d45a2254e0ebea3f3eaff177172": {
     "model_module": "@jupyter-widgets/base",
     "model_module_version": "1.2.0",
     "model_name": "LayoutModel",
     "state": {
      "_model_module": "@jupyter-widgets/base",
      "_model_module_version": "1.2.0",
      "_model_name": "LayoutModel",
      "_view_count": null,
      "_view_module": "@jupyter-widgets/base",
      "_view_module_version": "1.2.0",
      "_view_name": "LayoutView",
      "align_content": null,
      "align_items": null,
      "align_self": null,
      "border": null,
      "bottom": null,
      "display": null,
      "flex": null,
      "flex_flow": null,
      "grid_area": null,
      "grid_auto_columns": null,
      "grid_auto_flow": null,
      "grid_auto_rows": null,
      "grid_column": null,
      "grid_gap": null,
      "grid_row": null,
      "grid_template_areas": null,
      "grid_template_columns": null,
      "grid_template_rows": null,
      "height": null,
      "justify_content": null,
      "justify_items": null,
      "left": null,
      "margin": null,
      "max_height": null,
      "max_width": null,
      "min_height": null,
      "min_width": null,
      "object_fit": null,
      "object_position": null,
      "order": null,
      "overflow": null,
      "overflow_x": null,
      "overflow_y": null,
      "padding": null,
      "right": null,
      "top": null,
      "visibility": null,
      "width": null
     }
    },
    "f5b2c0f5ee7f41fc9564641233652a85": {
     "model_module": "@jupyter-widgets/controls",
     "model_module_version": "1.5.0",
     "model_name": "FloatProgressModel",
     "state": {
      "_dom_classes": [],
      "_model_module": "@jupyter-widgets/controls",
      "_model_module_version": "1.5.0",
      "_model_name": "FloatProgressModel",
      "_view_count": null,
      "_view_module": "@jupyter-widgets/controls",
      "_view_module_version": "1.5.0",
      "_view_name": "ProgressView",
      "bar_style": "success",
      "description": "",
      "description_tooltip": null,
      "layout": "IPY_MODEL_b2018d6fec0b43a0baa70c3ee4428f11",
      "max": 1,
      "min": 0,
      "orientation": "horizontal",
      "style": "IPY_MODEL_719346d2cfde447d924e30c469b4c52d",
      "value": 1
     }
    },
    "f694ab46807d47d08332b1ea1e022790": {
     "model_module": "@jupyter-widgets/controls",
     "model_module_version": "1.5.0",
     "model_name": "HTMLModel",
     "state": {
      "_dom_classes": [],
      "_model_module": "@jupyter-widgets/controls",
      "_model_module_version": "1.5.0",
      "_model_name": "HTMLModel",
      "_view_count": null,
      "_view_module": "@jupyter-widgets/controls",
      "_view_module_version": "1.5.0",
      "_view_name": "HTMLView",
      "description": "",
      "description_tooltip": null,
      "layout": "IPY_MODEL_93ee1abc0e0f4bddaa2acd076841468d",
      "placeholder": "​",
      "style": "IPY_MODEL_6dbcf22a76924c34b21827bc09a988ab",
      "value": ""
     }
    },
    "f6ef5a4e264641d2a12cb75965a2da14": {
     "model_module": "@jupyter-widgets/controls",
     "model_module_version": "1.5.0",
     "model_name": "ProgressStyleModel",
     "state": {
      "_model_module": "@jupyter-widgets/controls",
      "_model_module_version": "1.5.0",
      "_model_name": "ProgressStyleModel",
      "_view_count": null,
      "_view_module": "@jupyter-widgets/base",
      "_view_module_version": "1.2.0",
      "_view_name": "StyleView",
      "bar_color": null,
      "description_width": ""
     }
    }
   }
  }
 },
 "nbformat": 4,
 "nbformat_minor": 1
}
